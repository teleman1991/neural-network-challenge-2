{
  "cells": [
    {
      "cell_type": "markdown",
      "metadata": {
        "id": "alIIEHibGc3M"
      },
      "source": [
        "## Part 1: Preprocessing"
      ]
    },
    {
      "cell_type": "code",
      "execution_count": 1,
      "metadata": {
        "colab": {
          "base_uri": "https://localhost:8080/",
          "height": 325
        },
        "id": "6eDUJ4NtGc3P",
        "outputId": "2480098c-135c-4cbf-9552-018494ee8ff5"
      },
      "outputs": [
        {
          "data": {
            "text/html": [
              "<div>\n",
              "<style scoped>\n",
              "    .dataframe tbody tr th:only-of-type {\n",
              "        vertical-align: middle;\n",
              "    }\n",
              "\n",
              "    .dataframe tbody tr th {\n",
              "        vertical-align: top;\n",
              "    }\n",
              "\n",
              "    .dataframe thead th {\n",
              "        text-align: right;\n",
              "    }\n",
              "</style>\n",
              "<table border=\"1\" class=\"dataframe\">\n",
              "  <thead>\n",
              "    <tr style=\"text-align: right;\">\n",
              "      <th></th>\n",
              "      <th>Age</th>\n",
              "      <th>Attrition</th>\n",
              "      <th>BusinessTravel</th>\n",
              "      <th>Department</th>\n",
              "      <th>DistanceFromHome</th>\n",
              "      <th>Education</th>\n",
              "      <th>EducationField</th>\n",
              "      <th>EnvironmentSatisfaction</th>\n",
              "      <th>HourlyRate</th>\n",
              "      <th>JobInvolvement</th>\n",
              "      <th>...</th>\n",
              "      <th>PerformanceRating</th>\n",
              "      <th>RelationshipSatisfaction</th>\n",
              "      <th>StockOptionLevel</th>\n",
              "      <th>TotalWorkingYears</th>\n",
              "      <th>TrainingTimesLastYear</th>\n",
              "      <th>WorkLifeBalance</th>\n",
              "      <th>YearsAtCompany</th>\n",
              "      <th>YearsInCurrentRole</th>\n",
              "      <th>YearsSinceLastPromotion</th>\n",
              "      <th>YearsWithCurrManager</th>\n",
              "    </tr>\n",
              "  </thead>\n",
              "  <tbody>\n",
              "    <tr>\n",
              "      <th>0</th>\n",
              "      <td>41</td>\n",
              "      <td>Yes</td>\n",
              "      <td>Travel_Rarely</td>\n",
              "      <td>Sales</td>\n",
              "      <td>1</td>\n",
              "      <td>2</td>\n",
              "      <td>Life Sciences</td>\n",
              "      <td>2</td>\n",
              "      <td>94</td>\n",
              "      <td>3</td>\n",
              "      <td>...</td>\n",
              "      <td>3</td>\n",
              "      <td>1</td>\n",
              "      <td>0</td>\n",
              "      <td>8</td>\n",
              "      <td>0</td>\n",
              "      <td>1</td>\n",
              "      <td>6</td>\n",
              "      <td>4</td>\n",
              "      <td>0</td>\n",
              "      <td>5</td>\n",
              "    </tr>\n",
              "    <tr>\n",
              "      <th>1</th>\n",
              "      <td>49</td>\n",
              "      <td>No</td>\n",
              "      <td>Travel_Frequently</td>\n",
              "      <td>Research &amp; Development</td>\n",
              "      <td>8</td>\n",
              "      <td>1</td>\n",
              "      <td>Life Sciences</td>\n",
              "      <td>3</td>\n",
              "      <td>61</td>\n",
              "      <td>2</td>\n",
              "      <td>...</td>\n",
              "      <td>4</td>\n",
              "      <td>4</td>\n",
              "      <td>1</td>\n",
              "      <td>10</td>\n",
              "      <td>3</td>\n",
              "      <td>3</td>\n",
              "      <td>10</td>\n",
              "      <td>7</td>\n",
              "      <td>1</td>\n",
              "      <td>7</td>\n",
              "    </tr>\n",
              "    <tr>\n",
              "      <th>2</th>\n",
              "      <td>37</td>\n",
              "      <td>Yes</td>\n",
              "      <td>Travel_Rarely</td>\n",
              "      <td>Research &amp; Development</td>\n",
              "      <td>2</td>\n",
              "      <td>2</td>\n",
              "      <td>Other</td>\n",
              "      <td>4</td>\n",
              "      <td>92</td>\n",
              "      <td>2</td>\n",
              "      <td>...</td>\n",
              "      <td>3</td>\n",
              "      <td>2</td>\n",
              "      <td>0</td>\n",
              "      <td>7</td>\n",
              "      <td>3</td>\n",
              "      <td>3</td>\n",
              "      <td>0</td>\n",
              "      <td>0</td>\n",
              "      <td>0</td>\n",
              "      <td>0</td>\n",
              "    </tr>\n",
              "    <tr>\n",
              "      <th>3</th>\n",
              "      <td>33</td>\n",
              "      <td>No</td>\n",
              "      <td>Travel_Frequently</td>\n",
              "      <td>Research &amp; Development</td>\n",
              "      <td>3</td>\n",
              "      <td>4</td>\n",
              "      <td>Life Sciences</td>\n",
              "      <td>4</td>\n",
              "      <td>56</td>\n",
              "      <td>3</td>\n",
              "      <td>...</td>\n",
              "      <td>3</td>\n",
              "      <td>3</td>\n",
              "      <td>0</td>\n",
              "      <td>8</td>\n",
              "      <td>3</td>\n",
              "      <td>3</td>\n",
              "      <td>8</td>\n",
              "      <td>7</td>\n",
              "      <td>3</td>\n",
              "      <td>0</td>\n",
              "    </tr>\n",
              "    <tr>\n",
              "      <th>4</th>\n",
              "      <td>27</td>\n",
              "      <td>No</td>\n",
              "      <td>Travel_Rarely</td>\n",
              "      <td>Research &amp; Development</td>\n",
              "      <td>2</td>\n",
              "      <td>1</td>\n",
              "      <td>Medical</td>\n",
              "      <td>1</td>\n",
              "      <td>40</td>\n",
              "      <td>3</td>\n",
              "      <td>...</td>\n",
              "      <td>3</td>\n",
              "      <td>4</td>\n",
              "      <td>1</td>\n",
              "      <td>6</td>\n",
              "      <td>3</td>\n",
              "      <td>3</td>\n",
              "      <td>2</td>\n",
              "      <td>2</td>\n",
              "      <td>2</td>\n",
              "      <td>2</td>\n",
              "    </tr>\n",
              "  </tbody>\n",
              "</table>\n",
              "<p>5 rows × 27 columns</p>\n",
              "</div>"
            ],
            "text/plain": [
              "   Age Attrition     BusinessTravel              Department  DistanceFromHome  \\\n",
              "0   41       Yes      Travel_Rarely                   Sales                 1   \n",
              "1   49        No  Travel_Frequently  Research & Development                 8   \n",
              "2   37       Yes      Travel_Rarely  Research & Development                 2   \n",
              "3   33        No  Travel_Frequently  Research & Development                 3   \n",
              "4   27        No      Travel_Rarely  Research & Development                 2   \n",
              "\n",
              "   Education EducationField  EnvironmentSatisfaction  HourlyRate  \\\n",
              "0          2  Life Sciences                        2          94   \n",
              "1          1  Life Sciences                        3          61   \n",
              "2          2          Other                        4          92   \n",
              "3          4  Life Sciences                        4          56   \n",
              "4          1        Medical                        1          40   \n",
              "\n",
              "   JobInvolvement  ...  PerformanceRating RelationshipSatisfaction  \\\n",
              "0               3  ...                  3                        1   \n",
              "1               2  ...                  4                        4   \n",
              "2               2  ...                  3                        2   \n",
              "3               3  ...                  3                        3   \n",
              "4               3  ...                  3                        4   \n",
              "\n",
              "   StockOptionLevel TotalWorkingYears  TrainingTimesLastYear WorkLifeBalance  \\\n",
              "0                 0                 8                      0               1   \n",
              "1                 1                10                      3               3   \n",
              "2                 0                 7                      3               3   \n",
              "3                 0                 8                      3               3   \n",
              "4                 1                 6                      3               3   \n",
              "\n",
              "   YearsAtCompany  YearsInCurrentRole  YearsSinceLastPromotion  \\\n",
              "0               6                   4                        0   \n",
              "1              10                   7                        1   \n",
              "2               0                   0                        0   \n",
              "3               8                   7                        3   \n",
              "4               2                   2                        2   \n",
              "\n",
              "   YearsWithCurrManager  \n",
              "0                     5  \n",
              "1                     7  \n",
              "2                     0  \n",
              "3                     0  \n",
              "4                     2  \n",
              "\n",
              "[5 rows x 27 columns]"
            ]
          },
          "execution_count": 1,
          "metadata": {},
          "output_type": "execute_result"
        }
      ],
      "source": [
        "# Import our dependencies\n",
        "from sklearn.model_selection import train_test_split\n",
        "from sklearn.preprocessing import StandardScaler\n",
        "import pandas as pd\n",
        "import numpy as np\n",
        "from tensorflow.keras.models import Model\n",
        "from tensorflow.keras import layers\n",
        "import tensorflow as tf\n",
        "from tensorflow.keras.models import Model\n",
        "from tensorflow.keras.layers import Input, Dense, BatchNormalization, Dropout\n",
        "\n",
        "#  Import and read the attrition data\n",
        "attrition_df = pd.read_csv('https://static.bc-edx.com/ai/ail-v-1-0/m19/lms/datasets/attrition.csv')\n",
        "attrition_df.head()"
      ]
    },
    {
      "cell_type": "code",
      "execution_count": 2,
      "metadata": {
        "colab": {
          "base_uri": "https://localhost:8080/"
        },
        "id": "g22aQSY4Gc3Q",
        "outputId": "1f5c13c1-b981-4e40-a7ed-dd3fe6f1b81e"
      },
      "outputs": [
        {
          "data": {
            "text/plain": [
              "Age                         43\n",
              "Attrition                    2\n",
              "BusinessTravel               3\n",
              "Department                   3\n",
              "DistanceFromHome            29\n",
              "Education                    5\n",
              "EducationField               6\n",
              "EnvironmentSatisfaction      4\n",
              "HourlyRate                  71\n",
              "JobInvolvement               4\n",
              "JobLevel                     5\n",
              "JobRole                      9\n",
              "JobSatisfaction              4\n",
              "MaritalStatus                3\n",
              "NumCompaniesWorked          10\n",
              "OverTime                     2\n",
              "PercentSalaryHike           15\n",
              "PerformanceRating            2\n",
              "RelationshipSatisfaction     4\n",
              "StockOptionLevel             4\n",
              "TotalWorkingYears           40\n",
              "TrainingTimesLastYear        7\n",
              "WorkLifeBalance              4\n",
              "YearsAtCompany              37\n",
              "YearsInCurrentRole          19\n",
              "YearsSinceLastPromotion     16\n",
              "YearsWithCurrManager        18\n",
              "dtype: int64"
            ]
          },
          "execution_count": 2,
          "metadata": {},
          "output_type": "execute_result"
        }
      ],
      "source": [
        "# Determine the number of unique values in each column.\n",
        "attrition_df.nunique()"
      ]
    },
    {
      "cell_type": "code",
      "execution_count": 3,
      "metadata": {
        "id": "50vMgBEnJbfM"
      },
      "outputs": [],
      "source": [
        "# Create y_df with the Attrition and Department columns\n",
        "y_df = attrition_df[['Attrition', 'Department']]\n"
      ]
    },
    {
      "cell_type": "code",
      "execution_count": 4,
      "metadata": {
        "colab": {
          "base_uri": "https://localhost:8080/"
        },
        "id": "Virka0zLGc3R",
        "outputId": "dd5aee3a-9458-4ba6-e857-1b234de40915"
      },
      "outputs": [
        {
          "name": "stdout",
          "output_type": "stream",
          "text": [
            "Index(['Age', 'Attrition', 'BusinessTravel', 'Department', 'DistanceFromHome',\n",
            "       'Education', 'EducationField', 'EnvironmentSatisfaction', 'HourlyRate',\n",
            "       'JobInvolvement', 'JobLevel', 'JobRole', 'JobSatisfaction',\n",
            "       'MaritalStatus', 'NumCompaniesWorked', 'OverTime', 'PercentSalaryHike',\n",
            "       'PerformanceRating', 'RelationshipSatisfaction', 'StockOptionLevel',\n",
            "       'TotalWorkingYears', 'TrainingTimesLastYear', 'WorkLifeBalance',\n",
            "       'YearsAtCompany', 'YearsInCurrentRole', 'YearsSinceLastPromotion',\n",
            "       'YearsWithCurrManager'],\n",
            "      dtype='object')\n",
            "Education                   int64\n",
            "Age                         int64\n",
            "DistanceFromHome            int64\n",
            "JobSatisfaction             int64\n",
            "OverTime                   object\n",
            "StockOptionLevel            int64\n",
            "WorkLifeBalance             int64\n",
            "YearsAtCompany              int64\n",
            "YearsSinceLastPromotion     int64\n",
            "NumCompaniesWorked          int64\n",
            "dtype: object\n"
          ]
        }
      ],
      "source": [
        "# Check the column names in attrition_df\n",
        "print(attrition_df.columns)\n",
        "\n",
        "# Create a list of at least 10 columns names to use as X data\n",
        "x_list =['Education','Age','DistanceFromHome','JobSatisfaction', 'OverTime','StockOptionLevel','WorkLifeBalance','YearsAtCompany',\n",
        "'YearsSinceLastPromotion',\n",
        "'NumCompaniesWorked']\n",
        "\n",
        "# Create X_df using your selected columns\n",
        "x_df = attrition_df[x_list]\n",
        "\n",
        "# Show the data types for X_df\n",
        "print(x_df.dtypes)\n"
      ]
    },
    {
      "cell_type": "code",
      "execution_count": 5,
      "metadata": {
        "id": "KaJfdOGUMHMR"
      },
      "outputs": [],
      "source": [
        "# Split the data into training and testing sets\n",
        "from sklearn.model_selection import train_test_split\n",
        "X_train, X_test, y_train, y_test = train_test_split(x_df, y_df, random_state=42)"
      ]
    },
    {
      "cell_type": "code",
      "execution_count": 6,
      "metadata": {},
      "outputs": [
        {
          "name": "stdout",
          "output_type": "stream",
          "text": [
            "0       41\n",
            "1       49\n",
            "2       37\n",
            "3       33\n",
            "4       27\n",
            "        ..\n",
            "1465    36\n",
            "1466    39\n",
            "1467    27\n",
            "1468    49\n",
            "1469    34\n",
            "Name: Age, Length: 1470, dtype: int64\n"
          ]
        }
      ],
      "source": [
        "print(x_df['Age'])"
      ]
    },
    {
      "cell_type": "code",
      "execution_count": 7,
      "metadata": {
        "colab": {
          "base_uri": "https://localhost:8080/"
        },
        "id": "NYubUJqiLCSp",
        "outputId": "53f31721-571c-4c94-d13e-25a715749593"
      },
      "outputs": [
        {
          "name": "stdout",
          "output_type": "stream",
          "text": [
            "Education                   int64\n",
            "Age                         int32\n",
            "DistanceFromHome            int32\n",
            "JobSatisfaction             int32\n",
            "OverTime                   object\n",
            "StockOptionLevel            int32\n",
            "WorkLifeBalance             int32\n",
            "YearsAtCompany              int32\n",
            "YearsSinceLastPromotion     int32\n",
            "NumCompaniesWorked          int32\n",
            "dtype: object\n",
            "Non-numeric columns: ['OverTime']\n"
          ]
        }
      ],
      "source": [
        "# Convert your x_df Columns to int32 data type however you see fit\n",
        "x_df = x_df.astype({'Age': 'int32', 'DistanceFromHome': 'int32', 'JobSatisfaction': 'int32', 'StockOptionLevel': 'int32', 'WorkLifeBalance': 'int32', 'YearsAtCompany': 'int32', 'YearsSinceLastPromotion': 'int32', 'NumCompaniesWorked': 'int32'})\n",
        "print(x_df.dtypes)\n",
        "non_numeric = x_df.select_dtypes(exclude=[np.number]).columns\n",
        "if len(non_numeric) > 0:\n",
        "    print(f\"Non-numeric columns: {list(non_numeric)}\")\n",
        "else:\n",
        "    print(\"All columns are numeric except for 'OverTime' which is categorical.\")"
      ]
    },
    {
      "cell_type": "code",
      "execution_count": 8,
      "metadata": {},
      "outputs": [],
      "source": [
        "if 'OverTime' in X_train.columns:\n",
        "    X_train['OverTime'] = X_train['OverTime'].map({'No': 0, 'Yes': 1})\n",
        "    X_test['OverTime'] = X_test['OverTime'].map({'No': 0, 'Yes': 1})"
      ]
    },
    {
      "cell_type": "code",
      "execution_count": 9,
      "metadata": {
        "id": "EWA-aIA5Gc3T"
      },
      "outputs": [],
      "source": [
        "# Create a StandardScaler\n",
        "scaler = StandardScaler()\n",
        "\n",
        "# Fit the StandardScaler to the training data\n",
        "scaler.fit(X_train)\n",
        "\n",
        "# Scale the training and testing data\n",
        "X_train_scaled = scaler.transform(X_train)\n",
        "X_test_scaled = scaler.transform(X_test)\n"
      ]
    },
    {
      "cell_type": "markdown",
      "metadata": {},
      "source": []
    },
    {
      "cell_type": "code",
      "execution_count": 10,
      "metadata": {
        "colab": {
          "base_uri": "https://localhost:8080/"
        },
        "id": "-z0Mky8vQSz4",
        "outputId": "debefc85-c20b-48f5-f4d9-91eadd65d36a"
      },
      "outputs": [
        {
          "name": "stdout",
          "output_type": "stream",
          "text": [
            "(1102, 3) (368, 3)\n"
          ]
        }
      ],
      "source": [
        "# Create a OneHotEncoder for the Department column\n",
        "from sklearn.preprocessing import OneHotEncoder\n",
        "\n",
        "# Fit the encoder to the training data\n",
        "enc = OneHotEncoder().fit(y_train[['Department']])\n",
        "\n",
        "# Create two new variables by applying the encoder\n",
        "# to the training and testing data\n",
        "y_train_encoded = enc.transform(y_train[['Department']])\n",
        "y_test_encoded = enc.transform(y_test[['Department']])\n",
        "#Print array shapes\n",
        "print(y_train_encoded.shape, y_test_encoded.shape)"
      ]
    },
    {
      "cell_type": "code",
      "execution_count": 11,
      "metadata": {
        "colab": {
          "base_uri": "https://localhost:8080/"
        },
        "id": "-G4DSpvFRrk4",
        "outputId": "9842e948-8a55-4b80-8fac-f96714e85589"
      },
      "outputs": [
        {
          "name": "stdout",
          "output_type": "stream",
          "text": [
            "<Compressed Sparse Row sparse matrix of dtype 'float64'\n",
            "\twith 5 stored elements and shape (5, 2)>\n",
            "  Coords\tValues\n",
            "  (0, 0)\t1.0\n",
            "  (1, 0)\t1.0\n",
            "  (2, 0)\t1.0\n",
            "  (3, 0)\t1.0\n",
            "  (4, 0)\t1.0 <Compressed Sparse Row sparse matrix of dtype 'float64'\n",
            "\twith 5 stored elements and shape (5, 2)>\n",
            "  Coords\tValues\n",
            "  (0, 0)\t1.0\n",
            "  (1, 0)\t1.0\n",
            "  (2, 1)\t1.0\n",
            "  (3, 0)\t1.0\n",
            "  (4, 0)\t1.0\n"
          ]
        }
      ],
      "source": [
        "# Create a OneHotEncoder for the Attrition column\n",
        "from sklearn.preprocessing import OneHotEncoder\n",
        "\n",
        "# Fit the encoder to the training data\n",
        "enc = OneHotEncoder().fit(y_df[['Attrition']])\n",
        "\n",
        "# Create two new variables by applying the encoder\n",
        "# to the training and testing data\n",
        "y_train_encoded = enc.transform(y_train[['Attrition']])\n",
        "y_test_encoded = enc.transform(y_test[['Attrition']])\n",
        "\n",
        "#Print first 5 rows of y_train_encoded and y_test_encoded\n",
        "print(y_train_encoded[:5], y_test_encoded[:5])\n"
      ]
    },
    {
      "cell_type": "markdown",
      "metadata": {
        "id": "ykNmu_WWGc3T"
      },
      "source": [
        "## Create, Compile, and Train the Model"
      ]
    },
    {
      "cell_type": "code",
      "execution_count": 12,
      "metadata": {
        "id": "WUptZqmSGc3T"
      },
      "outputs": [
        {
          "name": "stdout",
          "output_type": "stream",
          "text": [
            "Number of input features: 10\n"
          ]
        }
      ],
      "source": [
        "# Find the number of columns in the X training data\n",
        "num_features = X_train.shape[1]\n",
        "print(f\"Number of input features: {num_features}\")\n",
        "# Create the input layer\n",
        "inputs = Input(shape=(num_features,), name='input_layer')\n",
        "\n",
        "# Create at least two shared layers\n",
        "x = Dense(64, activation='relu', name='dense_1')(inputs)\n",
        "x = Dense(32, activation='relu', name='dense_2')(x)"
      ]
    },
    {
      "cell_type": "code",
      "execution_count": 13,
      "metadata": {
        "id": "JukjTm2yTEqd"
      },
      "outputs": [],
      "source": [
        "# Create a branch for Department\n",
        "# with a hidden layer and an output layer\n",
        "# Create the hidden layer\n",
        "dept_hidden = Dense(16, activation='relu', name='dept_hidden')(x)\n",
        "num_departments = len(y_train['Department'].unique())\n",
        "# Create the output layer\n",
        "dept_output = Dense(num_departments, activation='sigmoid', name='dept_output')(dept_hidden)\n"
      ]
    },
    {
      "cell_type": "code",
      "execution_count": 14,
      "metadata": {
        "id": "9OqhUiOJUBkR"
      },
      "outputs": [],
      "source": [
        "# Create a branch for Attrition\n",
        "# with a hidden layer and an output layer\n",
        "# Create the hidden layer\n",
        "attrition_hidden = Dense(8, activation='relu', name='attrition_hidden')(x)\n",
        "# Create the output layer\n",
        "branch_2 = Dense(1, activation='softmax', name='attrition_output')(attrition_hidden)"
      ]
    },
    {
      "cell_type": "code",
      "execution_count": 15,
      "metadata": {
        "colab": {
          "base_uri": "https://localhost:8080/"
        },
        "id": "twmuejdxGc3T",
        "outputId": "25096308-b68b-42e4-e4ea-ae82e97c435a"
      },
      "outputs": [
        {
          "data": {
            "text/html": [
              "<pre style=\"white-space:pre;overflow-x:auto;line-height:normal;font-family:Menlo,'DejaVu Sans Mono',consolas,'Courier New',monospace\"><span style=\"font-weight: bold\">Model: \"employee_prediction_model\"</span>\n",
              "</pre>\n"
            ],
            "text/plain": [
              "\u001b[1mModel: \"employee_prediction_model\"\u001b[0m\n"
            ]
          },
          "metadata": {},
          "output_type": "display_data"
        },
        {
          "data": {
            "text/html": [
              "<pre style=\"white-space:pre;overflow-x:auto;line-height:normal;font-family:Menlo,'DejaVu Sans Mono',consolas,'Courier New',monospace\">┏━━━━━━━━━━━━━━━━━━━━━┳━━━━━━━━━━━━━━━━━━━┳━━━━━━━━━━━━┳━━━━━━━━━━━━━━━━━━━┓\n",
              "┃<span style=\"font-weight: bold\"> Layer (type)        </span>┃<span style=\"font-weight: bold\"> Output Shape      </span>┃<span style=\"font-weight: bold\">    Param # </span>┃<span style=\"font-weight: bold\"> Connected to      </span>┃\n",
              "┡━━━━━━━━━━━━━━━━━━━━━╇━━━━━━━━━━━━━━━━━━━╇━━━━━━━━━━━━╇━━━━━━━━━━━━━━━━━━━┩\n",
              "│ input_layer         │ (<span style=\"color: #00d7ff; text-decoration-color: #00d7ff\">None</span>, <span style=\"color: #00af00; text-decoration-color: #00af00\">10</span>)        │          <span style=\"color: #00af00; text-decoration-color: #00af00\">0</span> │ -                 │\n",
              "│ (<span style=\"color: #0087ff; text-decoration-color: #0087ff\">InputLayer</span>)        │                   │            │                   │\n",
              "├─────────────────────┼───────────────────┼────────────┼───────────────────┤\n",
              "│ dense_1 (<span style=\"color: #0087ff; text-decoration-color: #0087ff\">Dense</span>)     │ (<span style=\"color: #00d7ff; text-decoration-color: #00d7ff\">None</span>, <span style=\"color: #00af00; text-decoration-color: #00af00\">64</span>)        │        <span style=\"color: #00af00; text-decoration-color: #00af00\">704</span> │ input_layer[<span style=\"color: #00af00; text-decoration-color: #00af00\">0</span>][<span style=\"color: #00af00; text-decoration-color: #00af00\">0</span>] │\n",
              "├─────────────────────┼───────────────────┼────────────┼───────────────────┤\n",
              "│ dense_2 (<span style=\"color: #0087ff; text-decoration-color: #0087ff\">Dense</span>)     │ (<span style=\"color: #00d7ff; text-decoration-color: #00d7ff\">None</span>, <span style=\"color: #00af00; text-decoration-color: #00af00\">32</span>)        │      <span style=\"color: #00af00; text-decoration-color: #00af00\">2,080</span> │ dense_1[<span style=\"color: #00af00; text-decoration-color: #00af00\">0</span>][<span style=\"color: #00af00; text-decoration-color: #00af00\">0</span>]     │\n",
              "├─────────────────────┼───────────────────┼────────────┼───────────────────┤\n",
              "│ dept_hidden (<span style=\"color: #0087ff; text-decoration-color: #0087ff\">Dense</span>) │ (<span style=\"color: #00d7ff; text-decoration-color: #00d7ff\">None</span>, <span style=\"color: #00af00; text-decoration-color: #00af00\">16</span>)        │        <span style=\"color: #00af00; text-decoration-color: #00af00\">528</span> │ dense_2[<span style=\"color: #00af00; text-decoration-color: #00af00\">0</span>][<span style=\"color: #00af00; text-decoration-color: #00af00\">0</span>]     │\n",
              "├─────────────────────┼───────────────────┼────────────┼───────────────────┤\n",
              "│ attrition_hidden    │ (<span style=\"color: #00d7ff; text-decoration-color: #00d7ff\">None</span>, <span style=\"color: #00af00; text-decoration-color: #00af00\">8</span>)         │        <span style=\"color: #00af00; text-decoration-color: #00af00\">264</span> │ dense_2[<span style=\"color: #00af00; text-decoration-color: #00af00\">0</span>][<span style=\"color: #00af00; text-decoration-color: #00af00\">0</span>]     │\n",
              "│ (<span style=\"color: #0087ff; text-decoration-color: #0087ff\">Dense</span>)             │                   │            │                   │\n",
              "├─────────────────────┼───────────────────┼────────────┼───────────────────┤\n",
              "│ dept_output (<span style=\"color: #0087ff; text-decoration-color: #0087ff\">Dense</span>) │ (<span style=\"color: #00d7ff; text-decoration-color: #00d7ff\">None</span>, <span style=\"color: #00af00; text-decoration-color: #00af00\">3</span>)         │         <span style=\"color: #00af00; text-decoration-color: #00af00\">51</span> │ dept_hidden[<span style=\"color: #00af00; text-decoration-color: #00af00\">0</span>][<span style=\"color: #00af00; text-decoration-color: #00af00\">0</span>] │\n",
              "├─────────────────────┼───────────────────┼────────────┼───────────────────┤\n",
              "│ attrition_output    │ (<span style=\"color: #00d7ff; text-decoration-color: #00d7ff\">None</span>, <span style=\"color: #00af00; text-decoration-color: #00af00\">1</span>)         │          <span style=\"color: #00af00; text-decoration-color: #00af00\">9</span> │ attrition_hidden… │\n",
              "│ (<span style=\"color: #0087ff; text-decoration-color: #0087ff\">Dense</span>)             │                   │            │                   │\n",
              "└─────────────────────┴───────────────────┴────────────┴───────────────────┘\n",
              "</pre>\n"
            ],
            "text/plain": [
              "┏━━━━━━━━━━━━━━━━━━━━━┳━━━━━━━━━━━━━━━━━━━┳━━━━━━━━━━━━┳━━━━━━━━━━━━━━━━━━━┓\n",
              "┃\u001b[1m \u001b[0m\u001b[1mLayer (type)       \u001b[0m\u001b[1m \u001b[0m┃\u001b[1m \u001b[0m\u001b[1mOutput Shape     \u001b[0m\u001b[1m \u001b[0m┃\u001b[1m \u001b[0m\u001b[1m   Param #\u001b[0m\u001b[1m \u001b[0m┃\u001b[1m \u001b[0m\u001b[1mConnected to     \u001b[0m\u001b[1m \u001b[0m┃\n",
              "┡━━━━━━━━━━━━━━━━━━━━━╇━━━━━━━━━━━━━━━━━━━╇━━━━━━━━━━━━╇━━━━━━━━━━━━━━━━━━━┩\n",
              "│ input_layer         │ (\u001b[38;5;45mNone\u001b[0m, \u001b[38;5;34m10\u001b[0m)        │          \u001b[38;5;34m0\u001b[0m │ -                 │\n",
              "│ (\u001b[38;5;33mInputLayer\u001b[0m)        │                   │            │                   │\n",
              "├─────────────────────┼───────────────────┼────────────┼───────────────────┤\n",
              "│ dense_1 (\u001b[38;5;33mDense\u001b[0m)     │ (\u001b[38;5;45mNone\u001b[0m, \u001b[38;5;34m64\u001b[0m)        │        \u001b[38;5;34m704\u001b[0m │ input_layer[\u001b[38;5;34m0\u001b[0m][\u001b[38;5;34m0\u001b[0m] │\n",
              "├─────────────────────┼───────────────────┼────────────┼───────────────────┤\n",
              "│ dense_2 (\u001b[38;5;33mDense\u001b[0m)     │ (\u001b[38;5;45mNone\u001b[0m, \u001b[38;5;34m32\u001b[0m)        │      \u001b[38;5;34m2,080\u001b[0m │ dense_1[\u001b[38;5;34m0\u001b[0m][\u001b[38;5;34m0\u001b[0m]     │\n",
              "├─────────────────────┼───────────────────┼────────────┼───────────────────┤\n",
              "│ dept_hidden (\u001b[38;5;33mDense\u001b[0m) │ (\u001b[38;5;45mNone\u001b[0m, \u001b[38;5;34m16\u001b[0m)        │        \u001b[38;5;34m528\u001b[0m │ dense_2[\u001b[38;5;34m0\u001b[0m][\u001b[38;5;34m0\u001b[0m]     │\n",
              "├─────────────────────┼───────────────────┼────────────┼───────────────────┤\n",
              "│ attrition_hidden    │ (\u001b[38;5;45mNone\u001b[0m, \u001b[38;5;34m8\u001b[0m)         │        \u001b[38;5;34m264\u001b[0m │ dense_2[\u001b[38;5;34m0\u001b[0m][\u001b[38;5;34m0\u001b[0m]     │\n",
              "│ (\u001b[38;5;33mDense\u001b[0m)             │                   │            │                   │\n",
              "├─────────────────────┼───────────────────┼────────────┼───────────────────┤\n",
              "│ dept_output (\u001b[38;5;33mDense\u001b[0m) │ (\u001b[38;5;45mNone\u001b[0m, \u001b[38;5;34m3\u001b[0m)         │         \u001b[38;5;34m51\u001b[0m │ dept_hidden[\u001b[38;5;34m0\u001b[0m][\u001b[38;5;34m0\u001b[0m] │\n",
              "├─────────────────────┼───────────────────┼────────────┼───────────────────┤\n",
              "│ attrition_output    │ (\u001b[38;5;45mNone\u001b[0m, \u001b[38;5;34m1\u001b[0m)         │          \u001b[38;5;34m9\u001b[0m │ attrition_hidden… │\n",
              "│ (\u001b[38;5;33mDense\u001b[0m)             │                   │            │                   │\n",
              "└─────────────────────┴───────────────────┴────────────┴───────────────────┘\n"
            ]
          },
          "metadata": {},
          "output_type": "display_data"
        },
        {
          "data": {
            "text/html": [
              "<pre style=\"white-space:pre;overflow-x:auto;line-height:normal;font-family:Menlo,'DejaVu Sans Mono',consolas,'Courier New',monospace\"><span style=\"font-weight: bold\"> Total params: </span><span style=\"color: #00af00; text-decoration-color: #00af00\">3,636</span> (14.20 KB)\n",
              "</pre>\n"
            ],
            "text/plain": [
              "\u001b[1m Total params: \u001b[0m\u001b[38;5;34m3,636\u001b[0m (14.20 KB)\n"
            ]
          },
          "metadata": {},
          "output_type": "display_data"
        },
        {
          "data": {
            "text/html": [
              "<pre style=\"white-space:pre;overflow-x:auto;line-height:normal;font-family:Menlo,'DejaVu Sans Mono',consolas,'Courier New',monospace\"><span style=\"font-weight: bold\"> Trainable params: </span><span style=\"color: #00af00; text-decoration-color: #00af00\">3,636</span> (14.20 KB)\n",
              "</pre>\n"
            ],
            "text/plain": [
              "\u001b[1m Trainable params: \u001b[0m\u001b[38;5;34m3,636\u001b[0m (14.20 KB)\n"
            ]
          },
          "metadata": {},
          "output_type": "display_data"
        },
        {
          "data": {
            "text/html": [
              "<pre style=\"white-space:pre;overflow-x:auto;line-height:normal;font-family:Menlo,'DejaVu Sans Mono',consolas,'Courier New',monospace\"><span style=\"font-weight: bold\"> Non-trainable params: </span><span style=\"color: #00af00; text-decoration-color: #00af00\">0</span> (0.00 B)\n",
              "</pre>\n"
            ],
            "text/plain": [
              "\u001b[1m Non-trainable params: \u001b[0m\u001b[38;5;34m0\u001b[0m (0.00 B)\n"
            ]
          },
          "metadata": {},
          "output_type": "display_data"
        }
      ],
      "source": [
        "# Create the model\n",
        "model = Model(inputs=inputs, outputs=[dept_output, branch_2], name='employee_prediction_model')\n",
        "# Compile the model\n",
        "model.compile(optimizer='adam',\n",
        "              loss={'dept_output': 'categorical_crossentropy', 'attrition_output': 'binary_crossentropy'},\n",
        "              metrics=['accuracy'])\n",
        "\n",
        "# Summarize the model\n",
        "model.summary()"
      ]
    },
    {
      "cell_type": "code",
      "execution_count": 16,
      "metadata": {
        "colab": {
          "base_uri": "https://localhost:8080/"
        },
        "id": "c8oGy0dpGc3U",
        "outputId": "cc667d43-28cf-42d4-d719-c2bc02888d30"
      },
      "outputs": [
        {
          "name": "stdout",
          "output_type": "stream",
          "text": [
            "Epoch 1/100\n"
          ]
        },
        {
          "name": "stderr",
          "output_type": "stream",
          "text": [
            "c:\\Users\\Cajun\\anaconda3\\envs\\smu_test\\lib\\site-packages\\keras\\src\\ops\\nn.py:545: UserWarning: You are using a softmax over axis -1 of a tensor of shape (None, 1). This axis has size 1. The softmax operation will always return the value 1, which is likely not what you intended. Did you mean to use a sigmoid instead?\n",
            "  warnings.warn(\n",
            "c:\\Users\\Cajun\\anaconda3\\envs\\smu_test\\lib\\site-packages\\keras\\src\\losses\\losses.py:27: SyntaxWarning: In loss categorical_crossentropy, expected y_pred.shape to be (batch_size, num_classes) with num_classes > 1. Received: y_pred.shape=(None, 1). Consider using 'binary_crossentropy' if you only have 2 classes.\n",
            "  return self.fn(y_true, y_pred, **self._fn_kwargs)\n"
          ]
        },
        {
          "name": "stdout",
          "output_type": "stream",
          "text": [
            "\u001b[1m28/28\u001b[0m \u001b[32m━━━━━━━━━━━━━━━━━━━━\u001b[0m\u001b[37m\u001b[0m \u001b[1m1s\u001b[0m 6ms/step - attrition_output_accuracy: 0.1647 - attrition_output_loss: 0.0000e+00 - dept_output_accuracy: 0.4858 - dept_output_loss: 0.6717 - loss: 0.6718 - val_attrition_output_accuracy: 0.2127 - val_attrition_output_loss: 0.0000e+00 - val_dept_output_accuracy: 0.6109 - val_dept_output_loss: 0.5411 - val_loss: 0.5418\n",
            "Epoch 2/100\n",
            "\u001b[1m28/28\u001b[0m \u001b[32m━━━━━━━━━━━━━━━━━━━━\u001b[0m\u001b[37m\u001b[0m \u001b[1m0s\u001b[0m 1ms/step - attrition_output_accuracy: 0.1635 - attrition_output_loss: 0.0000e+00 - dept_output_accuracy: 0.6767 - dept_output_loss: 0.5116 - loss: 0.5115 - val_attrition_output_accuracy: 0.2127 - val_attrition_output_loss: 0.0000e+00 - val_dept_output_accuracy: 0.6063 - val_dept_output_loss: 0.5217 - val_loss: 0.5231\n",
            "Epoch 3/100\n",
            "\u001b[1m28/28\u001b[0m \u001b[32m━━━━━━━━━━━━━━━━━━━━\u001b[0m\u001b[37m\u001b[0m \u001b[1m0s\u001b[0m 1ms/step - attrition_output_accuracy: 0.1680 - attrition_output_loss: 0.0000e+00 - dept_output_accuracy: 0.6543 - dept_output_loss: 0.5056 - loss: 0.5056 - val_attrition_output_accuracy: 0.2127 - val_attrition_output_loss: 0.0000e+00 - val_dept_output_accuracy: 0.6063 - val_dept_output_loss: 0.5514 - val_loss: 0.5533\n"
          ]
        },
        {
          "name": "stderr",
          "output_type": "stream",
          "text": [
            "c:\\Users\\Cajun\\anaconda3\\envs\\smu_test\\lib\\site-packages\\keras\\src\\ops\\nn.py:545: UserWarning: You are using a softmax over axis -1 of a tensor of shape (None, 1). This axis has size 1. The softmax operation will always return the value 1, which is likely not what you intended. Did you mean to use a sigmoid instead?\n",
            "  warnings.warn(\n",
            "c:\\Users\\Cajun\\anaconda3\\envs\\smu_test\\lib\\site-packages\\keras\\src\\losses\\losses.py:27: SyntaxWarning: In loss categorical_crossentropy, expected y_pred.shape to be (batch_size, num_classes) with num_classes > 1. Received: y_pred.shape=(None, 1). Consider using 'binary_crossentropy' if you only have 2 classes.\n",
            "  return self.fn(y_true, y_pred, **self._fn_kwargs)\n"
          ]
        },
        {
          "name": "stdout",
          "output_type": "stream",
          "text": [
            "Epoch 4/100\n",
            "\u001b[1m28/28\u001b[0m \u001b[32m━━━━━━━━━━━━━━━━━━━━\u001b[0m\u001b[37m\u001b[0m \u001b[1m0s\u001b[0m 1ms/step - attrition_output_accuracy: 0.1693 - attrition_output_loss: 0.0000e+00 - dept_output_accuracy: 0.6638 - dept_output_loss: 0.5041 - loss: 0.5042 - val_attrition_output_accuracy: 0.2127 - val_attrition_output_loss: 0.0000e+00 - val_dept_output_accuracy: 0.6154 - val_dept_output_loss: 0.5434 - val_loss: 0.5453\n",
            "Epoch 5/100\n",
            "\u001b[1m28/28\u001b[0m \u001b[32m━━━━━━━━━━━━━━━━━━━━\u001b[0m\u001b[37m\u001b[0m \u001b[1m0s\u001b[0m 1ms/step - attrition_output_accuracy: 0.1799 - attrition_output_loss: 0.0000e+00 - dept_output_accuracy: 0.6529 - dept_output_loss: 0.5141 - loss: 0.5139 - val_attrition_output_accuracy: 0.2127 - val_attrition_output_loss: 0.0000e+00 - val_dept_output_accuracy: 0.6063 - val_dept_output_loss: 0.5424 - val_loss: 0.5443\n",
            "Epoch 6/100\n",
            "\u001b[1m28/28\u001b[0m \u001b[32m━━━━━━━━━━━━━━━━━━━━\u001b[0m\u001b[37m\u001b[0m \u001b[1m0s\u001b[0m 1ms/step - attrition_output_accuracy: 0.1648 - attrition_output_loss: 0.0000e+00 - dept_output_accuracy: 0.6423 - dept_output_loss: 0.5182 - loss: 0.5183 - val_attrition_output_accuracy: 0.2127 - val_attrition_output_loss: 0.0000e+00 - val_dept_output_accuracy: 0.6018 - val_dept_output_loss: 0.5459 - val_loss: 0.5476\n",
            "Epoch 7/100\n",
            "\u001b[1m28/28\u001b[0m \u001b[32m━━━━━━━━━━━━━━━━━━━━\u001b[0m\u001b[37m\u001b[0m \u001b[1m0s\u001b[0m 1ms/step - attrition_output_accuracy: 0.1826 - attrition_output_loss: 0.0000e+00 - dept_output_accuracy: 0.6460 - dept_output_loss: 0.5205 - loss: 0.5206 - val_attrition_output_accuracy: 0.2127 - val_attrition_output_loss: 0.0000e+00 - val_dept_output_accuracy: 0.6063 - val_dept_output_loss: 0.5594 - val_loss: 0.5613\n",
            "Epoch 8/100\n",
            "\u001b[1m28/28\u001b[0m \u001b[32m━━━━━━━━━━━━━━━━━━━━\u001b[0m\u001b[37m\u001b[0m \u001b[1m0s\u001b[0m 1ms/step - attrition_output_accuracy: 0.1487 - attrition_output_loss: 0.0000e+00 - dept_output_accuracy: 0.6656 - dept_output_loss: 0.5030 - loss: 0.5028 - val_attrition_output_accuracy: 0.2127 - val_attrition_output_loss: 0.0000e+00 - val_dept_output_accuracy: 0.5023 - val_dept_output_loss: 0.6026 - val_loss: 0.6039\n",
            "Epoch 9/100\n",
            "\u001b[1m28/28\u001b[0m \u001b[32m━━━━━━━━━━━━━━━━━━━━\u001b[0m\u001b[37m\u001b[0m \u001b[1m0s\u001b[0m 1ms/step - attrition_output_accuracy: 0.1649 - attrition_output_loss: 0.0000e+00 - dept_output_accuracy: 0.6110 - dept_output_loss: 0.5665 - loss: 0.5664 - val_attrition_output_accuracy: 0.2127 - val_attrition_output_loss: 0.0000e+00 - val_dept_output_accuracy: 0.5973 - val_dept_output_loss: 0.5501 - val_loss: 0.5514\n",
            "Epoch 10/100\n",
            "\u001b[1m28/28\u001b[0m \u001b[32m━━━━━━━━━━━━━━━━━━━━\u001b[0m\u001b[37m\u001b[0m \u001b[1m0s\u001b[0m 1ms/step - attrition_output_accuracy: 0.1665 - attrition_output_loss: 0.0000e+00 - dept_output_accuracy: 0.6452 - dept_output_loss: 0.5365 - loss: 0.5364 - val_attrition_output_accuracy: 0.2127 - val_attrition_output_loss: 0.0000e+00 - val_dept_output_accuracy: 0.5701 - val_dept_output_loss: 0.5500 - val_loss: 0.5512\n",
            "Epoch 11/100\n",
            "\u001b[1m28/28\u001b[0m \u001b[32m━━━━━━━━━━━━━━━━━━━━\u001b[0m\u001b[37m\u001b[0m \u001b[1m0s\u001b[0m 1ms/step - attrition_output_accuracy: 0.1594 - attrition_output_loss: 0.0000e+00 - dept_output_accuracy: 0.6415 - dept_output_loss: 0.5487 - loss: 0.5486 - val_attrition_output_accuracy: 0.2127 - val_attrition_output_loss: 0.0000e+00 - val_dept_output_accuracy: 0.6109 - val_dept_output_loss: 0.5569 - val_loss: 0.5587\n",
            "Epoch 12/100\n",
            "\u001b[1m28/28\u001b[0m \u001b[32m━━━━━━━━━━━━━━━━━━━━\u001b[0m\u001b[37m\u001b[0m \u001b[1m0s\u001b[0m 2ms/step - attrition_output_accuracy: 0.1419 - attrition_output_loss: 0.0000e+00 - dept_output_accuracy: 0.6665 - dept_output_loss: 0.5358 - loss: 0.5359 - val_attrition_output_accuracy: 0.2127 - val_attrition_output_loss: 0.0000e+00 - val_dept_output_accuracy: 0.6109 - val_dept_output_loss: 0.6032 - val_loss: 0.6055\n",
            "Epoch 13/100\n",
            "\u001b[1m28/28\u001b[0m \u001b[32m━━━━━━━━━━━━━━━━━━━━\u001b[0m\u001b[37m\u001b[0m \u001b[1m0s\u001b[0m 1ms/step - attrition_output_accuracy: 0.1783 - attrition_output_loss: 0.0000e+00 - dept_output_accuracy: 0.6584 - dept_output_loss: 0.5398 - loss: 0.5397 - val_attrition_output_accuracy: 0.2127 - val_attrition_output_loss: 0.0000e+00 - val_dept_output_accuracy: 0.6109 - val_dept_output_loss: 0.5621 - val_loss: 0.5640\n",
            "Epoch 14/100\n",
            "\u001b[1m28/28\u001b[0m \u001b[32m━━━━━━━━━━━━━━━━━━━━\u001b[0m\u001b[37m\u001b[0m \u001b[1m0s\u001b[0m 1ms/step - attrition_output_accuracy: 0.1584 - attrition_output_loss: 0.0000e+00 - dept_output_accuracy: 0.5864 - dept_output_loss: 0.5711 - loss: 0.5711 - val_attrition_output_accuracy: 0.2127 - val_attrition_output_loss: 0.0000e+00 - val_dept_output_accuracy: 0.4887 - val_dept_output_loss: 0.6090 - val_loss: 0.6100\n",
            "Epoch 15/100\n",
            "\u001b[1m28/28\u001b[0m \u001b[32m━━━━━━━━━━━━━━━━━━━━\u001b[0m\u001b[37m\u001b[0m \u001b[1m0s\u001b[0m 1ms/step - attrition_output_accuracy: 0.1500 - attrition_output_loss: 0.0000e+00 - dept_output_accuracy: 0.6073 - dept_output_loss: 0.5673 - loss: 0.5672 - val_attrition_output_accuracy: 0.2127 - val_attrition_output_loss: 0.0000e+00 - val_dept_output_accuracy: 0.3937 - val_dept_output_loss: 0.6976 - val_loss: 0.6984\n",
            "Epoch 16/100\n",
            "\u001b[1m28/28\u001b[0m \u001b[32m━━━━━━━━━━━━━━━━━━━━\u001b[0m\u001b[37m\u001b[0m \u001b[1m0s\u001b[0m 1ms/step - attrition_output_accuracy: 0.1547 - attrition_output_loss: 0.0000e+00 - dept_output_accuracy: 0.5291 - dept_output_loss: 0.6631 - loss: 0.6631 - val_attrition_output_accuracy: 0.2127 - val_attrition_output_loss: 0.0000e+00 - val_dept_output_accuracy: 0.4661 - val_dept_output_loss: 0.6307 - val_loss: 0.6317\n",
            "Epoch 17/100\n",
            "\u001b[1m28/28\u001b[0m \u001b[32m━━━━━━━━━━━━━━━━━━━━\u001b[0m\u001b[37m\u001b[0m \u001b[1m0s\u001b[0m 1ms/step - attrition_output_accuracy: 0.1529 - attrition_output_loss: 0.0000e+00 - dept_output_accuracy: 0.5822 - dept_output_loss: 0.6215 - loss: 0.6212 - val_attrition_output_accuracy: 0.2127 - val_attrition_output_loss: 0.0000e+00 - val_dept_output_accuracy: 0.5882 - val_dept_output_loss: 0.5914 - val_loss: 0.5934\n",
            "Epoch 18/100\n",
            "\u001b[1m28/28\u001b[0m \u001b[32m━━━━━━━━━━━━━━━━━━━━\u001b[0m\u001b[37m\u001b[0m \u001b[1m0s\u001b[0m 1ms/step - attrition_output_accuracy: 0.1827 - attrition_output_loss: 0.0000e+00 - dept_output_accuracy: 0.5438 - dept_output_loss: 0.6815 - loss: 0.6816 - val_attrition_output_accuracy: 0.2127 - val_attrition_output_loss: 0.0000e+00 - val_dept_output_accuracy: 0.5973 - val_dept_output_loss: 0.7634 - val_loss: 0.7656\n",
            "Epoch 19/100\n",
            "\u001b[1m28/28\u001b[0m \u001b[32m━━━━━━━━━━━━━━━━━━━━\u001b[0m\u001b[37m\u001b[0m \u001b[1m0s\u001b[0m 1ms/step - attrition_output_accuracy: 0.1675 - attrition_output_loss: 0.0000e+00 - dept_output_accuracy: 0.6696 - dept_output_loss: 0.6370 - loss: 0.6369 - val_attrition_output_accuracy: 0.2127 - val_attrition_output_loss: 0.0000e+00 - val_dept_output_accuracy: 0.5430 - val_dept_output_loss: 0.7054 - val_loss: 0.7071\n",
            "Epoch 20/100\n",
            "\u001b[1m28/28\u001b[0m \u001b[32m━━━━━━━━━━━━━━━━━━━━\u001b[0m\u001b[37m\u001b[0m \u001b[1m0s\u001b[0m 1ms/step - attrition_output_accuracy: 0.1491 - attrition_output_loss: 0.0000e+00 - dept_output_accuracy: 0.5883 - dept_output_loss: 0.6519 - loss: 0.6519 - val_attrition_output_accuracy: 0.2127 - val_attrition_output_loss: 0.0000e+00 - val_dept_output_accuracy: 0.5385 - val_dept_output_loss: 0.6028 - val_loss: 0.6044\n",
            "Epoch 21/100\n",
            "\u001b[1m28/28\u001b[0m \u001b[32m━━━━━━━━━━━━━━━━━━━━\u001b[0m\u001b[37m\u001b[0m \u001b[1m0s\u001b[0m 1ms/step - attrition_output_accuracy: 0.1351 - attrition_output_loss: 0.0000e+00 - dept_output_accuracy: 0.5661 - dept_output_loss: 0.6362 - loss: 0.6360 - val_attrition_output_accuracy: 0.2127 - val_attrition_output_loss: 0.0000e+00 - val_dept_output_accuracy: 0.6063 - val_dept_output_loss: 1.1334 - val_loss: 1.1374\n",
            "Epoch 22/100\n",
            "\u001b[1m28/28\u001b[0m \u001b[32m━━━━━━━━━━━━━━━━━━━━\u001b[0m\u001b[37m\u001b[0m \u001b[1m0s\u001b[0m 1ms/step - attrition_output_accuracy: 0.1417 - attrition_output_loss: 0.0000e+00 - dept_output_accuracy: 0.6068 - dept_output_loss: 0.7282 - loss: 0.7285 - val_attrition_output_accuracy: 0.2127 - val_attrition_output_loss: 0.0000e+00 - val_dept_output_accuracy: 0.6109 - val_dept_output_loss: 0.8035 - val_loss: 0.8067\n",
            "Epoch 23/100\n",
            "\u001b[1m28/28\u001b[0m \u001b[32m━━━━━━━━━━━━━━━━━━━━\u001b[0m\u001b[37m\u001b[0m \u001b[1m0s\u001b[0m 1ms/step - attrition_output_accuracy: 0.1771 - attrition_output_loss: 0.0000e+00 - dept_output_accuracy: 0.6066 - dept_output_loss: 0.7386 - loss: 0.7385 - val_attrition_output_accuracy: 0.2127 - val_attrition_output_loss: 0.0000e+00 - val_dept_output_accuracy: 0.6063 - val_dept_output_loss: 1.0729 - val_loss: 1.0786\n",
            "Epoch 24/100\n",
            "\u001b[1m28/28\u001b[0m \u001b[32m━━━━━━━━━━━━━━━━━━━━\u001b[0m\u001b[37m\u001b[0m \u001b[1m0s\u001b[0m 1ms/step - attrition_output_accuracy: 0.1477 - attrition_output_loss: 0.0000e+00 - dept_output_accuracy: 0.6110 - dept_output_loss: 0.7321 - loss: 0.7320 - val_attrition_output_accuracy: 0.2127 - val_attrition_output_loss: 0.0000e+00 - val_dept_output_accuracy: 0.4661 - val_dept_output_loss: 0.6704 - val_loss: 0.6718\n",
            "Epoch 25/100\n",
            "\u001b[1m28/28\u001b[0m \u001b[32m━━━━━━━━━━━━━━━━━━━━\u001b[0m\u001b[37m\u001b[0m \u001b[1m0s\u001b[0m 1ms/step - attrition_output_accuracy: 0.1510 - attrition_output_loss: 0.0000e+00 - dept_output_accuracy: 0.5968 - dept_output_loss: 0.6188 - loss: 0.6182 - val_attrition_output_accuracy: 0.2127 - val_attrition_output_loss: 0.0000e+00 - val_dept_output_accuracy: 0.5837 - val_dept_output_loss: 0.7299 - val_loss: 0.7322\n",
            "Epoch 26/100\n",
            "\u001b[1m28/28\u001b[0m \u001b[32m━━━━━━━━━━━━━━━━━━━━\u001b[0m\u001b[37m\u001b[0m \u001b[1m0s\u001b[0m 1ms/step - attrition_output_accuracy: 0.1532 - attrition_output_loss: 0.0000e+00 - dept_output_accuracy: 0.5997 - dept_output_loss: 0.7645 - loss: 0.7645 - val_attrition_output_accuracy: 0.2127 - val_attrition_output_loss: 0.0000e+00 - val_dept_output_accuracy: 0.6063 - val_dept_output_loss: 1.0046 - val_loss: 1.0110\n",
            "Epoch 27/100\n",
            "\u001b[1m28/28\u001b[0m \u001b[32m━━━━━━━━━━━━━━━━━━━━\u001b[0m\u001b[37m\u001b[0m \u001b[1m0s\u001b[0m 1ms/step - attrition_output_accuracy: 0.1692 - attrition_output_loss: 0.0000e+00 - dept_output_accuracy: 0.6312 - dept_output_loss: 0.8217 - loss: 0.8214 - val_attrition_output_accuracy: 0.2127 - val_attrition_output_loss: 0.0000e+00 - val_dept_output_accuracy: 0.3665 - val_dept_output_loss: 0.8452 - val_loss: 0.8463\n",
            "Epoch 28/100\n",
            "\u001b[1m28/28\u001b[0m \u001b[32m━━━━━━━━━━━━━━━━━━━━\u001b[0m\u001b[37m\u001b[0m \u001b[1m0s\u001b[0m 1ms/step - attrition_output_accuracy: 0.1518 - attrition_output_loss: 0.0000e+00 - dept_output_accuracy: 0.5446 - dept_output_loss: 0.8949 - loss: 0.8951 - val_attrition_output_accuracy: 0.2127 - val_attrition_output_loss: 0.0000e+00 - val_dept_output_accuracy: 0.5973 - val_dept_output_loss: 0.8725 - val_loss: 0.8762\n",
            "Epoch 29/100\n",
            "\u001b[1m28/28\u001b[0m \u001b[32m━━━━━━━━━━━━━━━━━━━━\u001b[0m\u001b[37m\u001b[0m \u001b[1m0s\u001b[0m 1ms/step - attrition_output_accuracy: 0.1671 - attrition_output_loss: 0.0000e+00 - dept_output_accuracy: 0.6187 - dept_output_loss: 0.7828 - loss: 0.7833 - val_attrition_output_accuracy: 0.2127 - val_attrition_output_loss: 0.0000e+00 - val_dept_output_accuracy: 0.5928 - val_dept_output_loss: 0.9497 - val_loss: 0.9534\n",
            "Epoch 30/100\n",
            "\u001b[1m28/28\u001b[0m \u001b[32m━━━━━━━━━━━━━━━━━━━━\u001b[0m\u001b[37m\u001b[0m \u001b[1m0s\u001b[0m 1ms/step - attrition_output_accuracy: 0.1559 - attrition_output_loss: 0.0000e+00 - dept_output_accuracy: 0.6242 - dept_output_loss: 0.7074 - loss: 0.7078 - val_attrition_output_accuracy: 0.2127 - val_attrition_output_loss: 0.0000e+00 - val_dept_output_accuracy: 0.5566 - val_dept_output_loss: 0.6731 - val_loss: 0.6756\n",
            "Epoch 31/100\n",
            "\u001b[1m28/28\u001b[0m \u001b[32m━━━━━━━━━━━━━━━━━━━━\u001b[0m\u001b[37m\u001b[0m \u001b[1m0s\u001b[0m 1ms/step - attrition_output_accuracy: 0.1666 - attrition_output_loss: 0.0000e+00 - dept_output_accuracy: 0.5710 - dept_output_loss: 0.8384 - loss: 0.8370 - val_attrition_output_accuracy: 0.2127 - val_attrition_output_loss: 0.0000e+00 - val_dept_output_accuracy: 0.6063 - val_dept_output_loss: 1.2782 - val_loss: 1.2837\n",
            "Epoch 32/100\n",
            "\u001b[1m28/28\u001b[0m \u001b[32m━━━━━━━━━━━━━━━━━━━━\u001b[0m\u001b[37m\u001b[0m \u001b[1m0s\u001b[0m 1ms/step - attrition_output_accuracy: 0.1585 - attrition_output_loss: 0.0000e+00 - dept_output_accuracy: 0.5468 - dept_output_loss: 1.0513 - loss: 1.0516 - val_attrition_output_accuracy: 0.2127 - val_attrition_output_loss: 0.0000e+00 - val_dept_output_accuracy: 0.5747 - val_dept_output_loss: 1.7050 - val_loss: 1.7105\n",
            "Epoch 33/100\n",
            "\u001b[1m28/28\u001b[0m \u001b[32m━━━━━━━━━━━━━━━━━━━━\u001b[0m\u001b[37m\u001b[0m \u001b[1m0s\u001b[0m 1ms/step - attrition_output_accuracy: 0.1484 - attrition_output_loss: 0.0000e+00 - dept_output_accuracy: 0.5736 - dept_output_loss: 1.1644 - loss: 1.1641 - val_attrition_output_accuracy: 0.2127 - val_attrition_output_loss: 0.0000e+00 - val_dept_output_accuracy: 0.4027 - val_dept_output_loss: 1.3900 - val_loss: 1.3922\n",
            "Epoch 34/100\n",
            "\u001b[1m28/28\u001b[0m \u001b[32m━━━━━━━━━━━━━━━━━━━━\u001b[0m\u001b[37m\u001b[0m \u001b[1m0s\u001b[0m 1ms/step - attrition_output_accuracy: 0.1417 - attrition_output_loss: 0.0000e+00 - dept_output_accuracy: 0.5380 - dept_output_loss: 1.2129 - loss: 1.2130 - val_attrition_output_accuracy: 0.2127 - val_attrition_output_loss: 0.0000e+00 - val_dept_output_accuracy: 0.2941 - val_dept_output_loss: 1.4510 - val_loss: 1.4528\n",
            "Epoch 35/100\n",
            "\u001b[1m28/28\u001b[0m \u001b[32m━━━━━━━━━━━━━━━━━━━━\u001b[0m\u001b[37m\u001b[0m \u001b[1m0s\u001b[0m 1ms/step - attrition_output_accuracy: 0.1786 - attrition_output_loss: 0.0000e+00 - dept_output_accuracy: 0.5538 - dept_output_loss: 1.0321 - loss: 1.0322 - val_attrition_output_accuracy: 0.2127 - val_attrition_output_loss: 0.0000e+00 - val_dept_output_accuracy: 0.6109 - val_dept_output_loss: 0.9916 - val_loss: 0.9969\n",
            "Epoch 36/100\n",
            "\u001b[1m28/28\u001b[0m \u001b[32m━━━━━━━━━━━━━━━━━━━━\u001b[0m\u001b[37m\u001b[0m \u001b[1m0s\u001b[0m 1ms/step - attrition_output_accuracy: 0.1688 - attrition_output_loss: 0.0000e+00 - dept_output_accuracy: 0.6004 - dept_output_loss: 1.0290 - loss: 1.0292 - val_attrition_output_accuracy: 0.2127 - val_attrition_output_loss: 0.0000e+00 - val_dept_output_accuracy: 0.6063 - val_dept_output_loss: 1.3760 - val_loss: 1.3824\n",
            "Epoch 37/100\n",
            "\u001b[1m28/28\u001b[0m \u001b[32m━━━━━━━━━━━━━━━━━━━━\u001b[0m\u001b[37m\u001b[0m \u001b[1m0s\u001b[0m 1ms/step - attrition_output_accuracy: 0.1688 - attrition_output_loss: 0.0000e+00 - dept_output_accuracy: 0.6118 - dept_output_loss: 0.9879 - loss: 0.9872 - val_attrition_output_accuracy: 0.2127 - val_attrition_output_loss: 0.0000e+00 - val_dept_output_accuracy: 0.6063 - val_dept_output_loss: 1.2196 - val_loss: 1.2255\n",
            "Epoch 38/100\n",
            "\u001b[1m28/28\u001b[0m \u001b[32m━━━━━━━━━━━━━━━━━━━━\u001b[0m\u001b[37m\u001b[0m \u001b[1m0s\u001b[0m 1ms/step - attrition_output_accuracy: 0.1687 - attrition_output_loss: 0.0000e+00 - dept_output_accuracy: 0.6159 - dept_output_loss: 1.1002 - loss: 1.1003 - val_attrition_output_accuracy: 0.2127 - val_attrition_output_loss: 0.0000e+00 - val_dept_output_accuracy: 0.3891 - val_dept_output_loss: 0.9836 - val_loss: 0.9852\n",
            "Epoch 39/100\n",
            "\u001b[1m28/28\u001b[0m \u001b[32m━━━━━━━━━━━━━━━━━━━━\u001b[0m\u001b[37m\u001b[0m \u001b[1m0s\u001b[0m 1ms/step - attrition_output_accuracy: 0.1556 - attrition_output_loss: 0.0000e+00 - dept_output_accuracy: 0.5338 - dept_output_loss: 1.1322 - loss: 1.1328 - val_attrition_output_accuracy: 0.2127 - val_attrition_output_loss: 0.0000e+00 - val_dept_output_accuracy: 0.4842 - val_dept_output_loss: 1.5539 - val_loss: 1.5571\n",
            "Epoch 40/100\n",
            "\u001b[1m28/28\u001b[0m \u001b[32m━━━━━━━━━━━━━━━━━━━━\u001b[0m\u001b[37m\u001b[0m \u001b[1m0s\u001b[0m 1ms/step - attrition_output_accuracy: 0.1544 - attrition_output_loss: 0.0000e+00 - dept_output_accuracy: 0.5767 - dept_output_loss: 1.0557 - loss: 1.0538 - val_attrition_output_accuracy: 0.2127 - val_attrition_output_loss: 0.0000e+00 - val_dept_output_accuracy: 0.5928 - val_dept_output_loss: 1.6168 - val_loss: 1.6227\n",
            "Epoch 41/100\n",
            "\u001b[1m28/28\u001b[0m \u001b[32m━━━━━━━━━━━━━━━━━━━━\u001b[0m\u001b[37m\u001b[0m \u001b[1m0s\u001b[0m 1ms/step - attrition_output_accuracy: 0.1631 - attrition_output_loss: 0.0000e+00 - dept_output_accuracy: 0.5345 - dept_output_loss: 1.5400 - loss: 1.5411 - val_attrition_output_accuracy: 0.2127 - val_attrition_output_loss: 0.0000e+00 - val_dept_output_accuracy: 0.5747 - val_dept_output_loss: 1.0437 - val_loss: 1.0479\n",
            "Epoch 42/100\n",
            "\u001b[1m28/28\u001b[0m \u001b[32m━━━━━━━━━━━━━━━━━━━━\u001b[0m\u001b[37m\u001b[0m \u001b[1m0s\u001b[0m 1ms/step - attrition_output_accuracy: 0.1721 - attrition_output_loss: 0.0000e+00 - dept_output_accuracy: 0.5650 - dept_output_loss: 1.5985 - loss: 1.5993 - val_attrition_output_accuracy: 0.2127 - val_attrition_output_loss: 0.0000e+00 - val_dept_output_accuracy: 0.6063 - val_dept_output_loss: 2.5909 - val_loss: 2.6018\n",
            "Epoch 43/100\n",
            "\u001b[1m28/28\u001b[0m \u001b[32m━━━━━━━━━━━━━━━━━━━━\u001b[0m\u001b[37m\u001b[0m \u001b[1m0s\u001b[0m 1ms/step - attrition_output_accuracy: 0.1663 - attrition_output_loss: 0.0000e+00 - dept_output_accuracy: 0.6580 - dept_output_loss: 3.2775 - loss: 3.2799 - val_attrition_output_accuracy: 0.2127 - val_attrition_output_loss: 0.0000e+00 - val_dept_output_accuracy: 0.6063 - val_dept_output_loss: 5.0538 - val_loss: 5.0792\n",
            "Epoch 44/100\n",
            "\u001b[1m28/28\u001b[0m \u001b[32m━━━━━━━━━━━━━━━━━━━━\u001b[0m\u001b[37m\u001b[0m \u001b[1m0s\u001b[0m 1ms/step - attrition_output_accuracy: 0.1546 - attrition_output_loss: 0.0000e+00 - dept_output_accuracy: 0.5944 - dept_output_loss: 3.4140 - loss: 3.4144 - val_attrition_output_accuracy: 0.2127 - val_attrition_output_loss: 0.0000e+00 - val_dept_output_accuracy: 0.4480 - val_dept_output_loss: 2.7490 - val_loss: 2.7545\n",
            "Epoch 45/100\n",
            "\u001b[1m28/28\u001b[0m \u001b[32m━━━━━━━━━━━━━━━━━━━━\u001b[0m\u001b[37m\u001b[0m \u001b[1m0s\u001b[0m 1ms/step - attrition_output_accuracy: 0.1367 - attrition_output_loss: 0.0000e+00 - dept_output_accuracy: 0.5815 - dept_output_loss: 1.9914 - loss: 1.9901 - val_attrition_output_accuracy: 0.2127 - val_attrition_output_loss: 0.0000e+00 - val_dept_output_accuracy: 0.5837 - val_dept_output_loss: 1.1231 - val_loss: 1.1297\n",
            "Epoch 46/100\n",
            "\u001b[1m28/28\u001b[0m \u001b[32m━━━━━━━━━━━━━━━━━━━━\u001b[0m\u001b[37m\u001b[0m \u001b[1m0s\u001b[0m 1ms/step - attrition_output_accuracy: 0.1829 - attrition_output_loss: 0.0000e+00 - dept_output_accuracy: 0.6053 - dept_output_loss: 1.3754 - loss: 1.3743 - val_attrition_output_accuracy: 0.2127 - val_attrition_output_loss: 0.0000e+00 - val_dept_output_accuracy: 0.5747 - val_dept_output_loss: 1.3620 - val_loss: 1.3676\n",
            "Epoch 47/100\n",
            "\u001b[1m28/28\u001b[0m \u001b[32m━━━━━━━━━━━━━━━━━━━━\u001b[0m\u001b[37m\u001b[0m \u001b[1m0s\u001b[0m 1ms/step - attrition_output_accuracy: 0.1549 - attrition_output_loss: 0.0000e+00 - dept_output_accuracy: 0.5897 - dept_output_loss: 1.8910 - loss: 1.8910 - val_attrition_output_accuracy: 0.2127 - val_attrition_output_loss: 0.0000e+00 - val_dept_output_accuracy: 0.6063 - val_dept_output_loss: 3.0501 - val_loss: 3.0639\n",
            "Epoch 48/100\n",
            "\u001b[1m28/28\u001b[0m \u001b[32m━━━━━━━━━━━━━━━━━━━━\u001b[0m\u001b[37m\u001b[0m \u001b[1m0s\u001b[0m 1ms/step - attrition_output_accuracy: 0.1461 - attrition_output_loss: 0.0000e+00 - dept_output_accuracy: 0.6625 - dept_output_loss: 1.6591 - loss: 1.6581 - val_attrition_output_accuracy: 0.2127 - val_attrition_output_loss: 0.0000e+00 - val_dept_output_accuracy: 0.6063 - val_dept_output_loss: 1.5534 - val_loss: 1.5642\n",
            "Epoch 49/100\n",
            "\u001b[1m28/28\u001b[0m \u001b[32m━━━━━━━━━━━━━━━━━━━━\u001b[0m\u001b[37m\u001b[0m \u001b[1m0s\u001b[0m 1ms/step - attrition_output_accuracy: 0.1427 - attrition_output_loss: 0.0000e+00 - dept_output_accuracy: 0.5995 - dept_output_loss: 2.0807 - loss: 2.0794 - val_attrition_output_accuracy: 0.2127 - val_attrition_output_loss: 0.0000e+00 - val_dept_output_accuracy: 0.5249 - val_dept_output_loss: 2.8763 - val_loss: 2.8800\n",
            "Epoch 50/100\n",
            "\u001b[1m28/28\u001b[0m \u001b[32m━━━━━━━━━━━━━━━━━━━━\u001b[0m\u001b[37m\u001b[0m \u001b[1m0s\u001b[0m 1ms/step - attrition_output_accuracy: 0.1796 - attrition_output_loss: 0.0000e+00 - dept_output_accuracy: 0.5882 - dept_output_loss: 2.3006 - loss: 2.2984 - val_attrition_output_accuracy: 0.2127 - val_attrition_output_loss: 0.0000e+00 - val_dept_output_accuracy: 0.6063 - val_dept_output_loss: 2.3051 - val_loss: 2.3266\n",
            "Epoch 51/100\n",
            "\u001b[1m28/28\u001b[0m \u001b[32m━━━━━━━━━━━━━━━━━━━━\u001b[0m\u001b[37m\u001b[0m \u001b[1m0s\u001b[0m 1ms/step - attrition_output_accuracy: 0.1478 - attrition_output_loss: 0.0000e+00 - dept_output_accuracy: 0.5797 - dept_output_loss: 2.2690 - loss: 2.2704 - val_attrition_output_accuracy: 0.2127 - val_attrition_output_loss: 0.0000e+00 - val_dept_output_accuracy: 0.3529 - val_dept_output_loss: 2.7405 - val_loss: 2.7489\n",
            "Epoch 52/100\n",
            "\u001b[1m28/28\u001b[0m \u001b[32m━━━━━━━━━━━━━━━━━━━━\u001b[0m\u001b[37m\u001b[0m \u001b[1m0s\u001b[0m 1ms/step - attrition_output_accuracy: 0.1637 - attrition_output_loss: 0.0000e+00 - dept_output_accuracy: 0.5523 - dept_output_loss: 2.7770 - loss: 2.7723 - val_attrition_output_accuracy: 0.2127 - val_attrition_output_loss: 0.0000e+00 - val_dept_output_accuracy: 0.5928 - val_dept_output_loss: 4.4550 - val_loss: 4.4779\n",
            "Epoch 53/100\n",
            "\u001b[1m28/28\u001b[0m \u001b[32m━━━━━━━━━━━━━━━━━━━━\u001b[0m\u001b[37m\u001b[0m \u001b[1m0s\u001b[0m 1ms/step - attrition_output_accuracy: 0.1586 - attrition_output_loss: 0.0000e+00 - dept_output_accuracy: 0.6658 - dept_output_loss: 3.4825 - loss: 3.4841 - val_attrition_output_accuracy: 0.2127 - val_attrition_output_loss: 0.0000e+00 - val_dept_output_accuracy: 0.5023 - val_dept_output_loss: 2.1035 - val_loss: 2.1117\n",
            "Epoch 54/100\n",
            "\u001b[1m28/28\u001b[0m \u001b[32m━━━━━━━━━━━━━━━━━━━━\u001b[0m\u001b[37m\u001b[0m \u001b[1m0s\u001b[0m 1ms/step - attrition_output_accuracy: 0.1632 - attrition_output_loss: 0.0000e+00 - dept_output_accuracy: 0.6075 - dept_output_loss: 2.3410 - loss: 2.3399 - val_attrition_output_accuracy: 0.2127 - val_attrition_output_loss: 0.0000e+00 - val_dept_output_accuracy: 0.6063 - val_dept_output_loss: 5.6071 - val_loss: 5.6304\n",
            "Epoch 55/100\n",
            "\u001b[1m28/28\u001b[0m \u001b[32m━━━━━━━━━━━━━━━━━━━━\u001b[0m\u001b[37m\u001b[0m \u001b[1m0s\u001b[0m 1ms/step - attrition_output_accuracy: 0.1579 - attrition_output_loss: 0.0000e+00 - dept_output_accuracy: 0.6062 - dept_output_loss: 3.6786 - loss: 3.6767 - val_attrition_output_accuracy: 0.2127 - val_attrition_output_loss: 0.0000e+00 - val_dept_output_accuracy: 0.6063 - val_dept_output_loss: 3.0028 - val_loss: 3.0220\n",
            "Epoch 56/100\n",
            "\u001b[1m28/28\u001b[0m \u001b[32m━━━━━━━━━━━━━━━━━━━━\u001b[0m\u001b[37m\u001b[0m \u001b[1m0s\u001b[0m 1ms/step - attrition_output_accuracy: 0.1467 - attrition_output_loss: 0.0000e+00 - dept_output_accuracy: 0.5536 - dept_output_loss: 4.6480 - loss: 4.6482 - val_attrition_output_accuracy: 0.2127 - val_attrition_output_loss: 0.0000e+00 - val_dept_output_accuracy: 0.2624 - val_dept_output_loss: 5.9065 - val_loss: 5.9211\n",
            "Epoch 57/100\n",
            "\u001b[1m28/28\u001b[0m \u001b[32m━━━━━━━━━━━━━━━━━━━━\u001b[0m\u001b[37m\u001b[0m \u001b[1m0s\u001b[0m 1ms/step - attrition_output_accuracy: 0.1498 - attrition_output_loss: 0.0000e+00 - dept_output_accuracy: 0.4940 - dept_output_loss: 4.9815 - loss: 4.9852 - val_attrition_output_accuracy: 0.2127 - val_attrition_output_loss: 0.0000e+00 - val_dept_output_accuracy: 0.6063 - val_dept_output_loss: 4.1347 - val_loss: 4.1519\n",
            "Epoch 58/100\n",
            "\u001b[1m28/28\u001b[0m \u001b[32m━━━━━━━━━━━━━━━━━━━━\u001b[0m\u001b[37m\u001b[0m \u001b[1m0s\u001b[0m 1ms/step - attrition_output_accuracy: 0.1592 - attrition_output_loss: 0.0000e+00 - dept_output_accuracy: 0.6030 - dept_output_loss: 3.5038 - loss: 3.5009 - val_attrition_output_accuracy: 0.2127 - val_attrition_output_loss: 0.0000e+00 - val_dept_output_accuracy: 0.6063 - val_dept_output_loss: 4.8592 - val_loss: 4.8822\n",
            "Epoch 59/100\n",
            "\u001b[1m28/28\u001b[0m \u001b[32m━━━━━━━━━━━━━━━━━━━━\u001b[0m\u001b[37m\u001b[0m \u001b[1m0s\u001b[0m 1ms/step - attrition_output_accuracy: 0.1521 - attrition_output_loss: 0.0000e+00 - dept_output_accuracy: 0.5591 - dept_output_loss: 3.8179 - loss: 3.8147 - val_attrition_output_accuracy: 0.2127 - val_attrition_output_loss: 0.0000e+00 - val_dept_output_accuracy: 0.6063 - val_dept_output_loss: 6.6191 - val_loss: 6.6561\n",
            "Epoch 60/100\n",
            "\u001b[1m28/28\u001b[0m \u001b[32m━━━━━━━━━━━━━━━━━━━━\u001b[0m\u001b[37m\u001b[0m \u001b[1m0s\u001b[0m 1ms/step - attrition_output_accuracy: 0.1561 - attrition_output_loss: 0.0000e+00 - dept_output_accuracy: 0.5721 - dept_output_loss: 3.7089 - loss: 3.7088 - val_attrition_output_accuracy: 0.2127 - val_attrition_output_loss: 0.0000e+00 - val_dept_output_accuracy: 0.3665 - val_dept_output_loss: 2.4645 - val_loss: 2.4757\n",
            "Epoch 61/100\n",
            "\u001b[1m28/28\u001b[0m \u001b[32m━━━━━━━━━━━━━━━━━━━━\u001b[0m\u001b[37m\u001b[0m \u001b[1m0s\u001b[0m 1ms/step - attrition_output_accuracy: 0.1601 - attrition_output_loss: 0.0000e+00 - dept_output_accuracy: 0.4904 - dept_output_loss: 3.3311 - loss: 3.3348 - val_attrition_output_accuracy: 0.2127 - val_attrition_output_loss: 0.0000e+00 - val_dept_output_accuracy: 0.4118 - val_dept_output_loss: 3.2496 - val_loss: 3.2563\n",
            "Epoch 62/100\n",
            "\u001b[1m28/28\u001b[0m \u001b[32m━━━━━━━━━━━━━━━━━━━━\u001b[0m\u001b[37m\u001b[0m \u001b[1m0s\u001b[0m 1ms/step - attrition_output_accuracy: 0.1491 - attrition_output_loss: 0.0000e+00 - dept_output_accuracy: 0.5375 - dept_output_loss: 2.2232 - loss: 2.2232 - val_attrition_output_accuracy: 0.2127 - val_attrition_output_loss: 0.0000e+00 - val_dept_output_accuracy: 0.5882 - val_dept_output_loss: 1.2715 - val_loss: 1.2798\n",
            "Epoch 63/100\n",
            "\u001b[1m28/28\u001b[0m \u001b[32m━━━━━━━━━━━━━━━━━━━━\u001b[0m\u001b[37m\u001b[0m \u001b[1m0s\u001b[0m 1ms/step - attrition_output_accuracy: 0.1616 - attrition_output_loss: 0.0000e+00 - dept_output_accuracy: 0.5741 - dept_output_loss: 1.5711 - loss: 1.5685 - val_attrition_output_accuracy: 0.2127 - val_attrition_output_loss: 0.0000e+00 - val_dept_output_accuracy: 0.3439 - val_dept_output_loss: 1.5954 - val_loss: 1.5973\n",
            "Epoch 64/100\n",
            "\u001b[1m28/28\u001b[0m \u001b[32m━━━━━━━━━━━━━━━━━━━━\u001b[0m\u001b[37m\u001b[0m \u001b[1m0s\u001b[0m 1ms/step - attrition_output_accuracy: 0.1369 - attrition_output_loss: 0.0000e+00 - dept_output_accuracy: 0.5409 - dept_output_loss: 3.0025 - loss: 3.0012 - val_attrition_output_accuracy: 0.2127 - val_attrition_output_loss: 0.0000e+00 - val_dept_output_accuracy: 0.5701 - val_dept_output_loss: 3.3073 - val_loss: 3.3189\n",
            "Epoch 65/100\n",
            "\u001b[1m28/28\u001b[0m \u001b[32m━━━━━━━━━━━━━━━━━━━━\u001b[0m\u001b[37m\u001b[0m \u001b[1m0s\u001b[0m 1ms/step - attrition_output_accuracy: 0.1676 - attrition_output_loss: 0.0000e+00 - dept_output_accuracy: 0.6094 - dept_output_loss: 3.0301 - loss: 3.0260 - val_attrition_output_accuracy: 0.2127 - val_attrition_output_loss: 0.0000e+00 - val_dept_output_accuracy: 0.6063 - val_dept_output_loss: 8.2889 - val_loss: 8.3168\n",
            "Epoch 66/100\n",
            "\u001b[1m28/28\u001b[0m \u001b[32m━━━━━━━━━━━━━━━━━━━━\u001b[0m\u001b[37m\u001b[0m \u001b[1m0s\u001b[0m 1ms/step - attrition_output_accuracy: 0.1543 - attrition_output_loss: 0.0000e+00 - dept_output_accuracy: 0.5927 - dept_output_loss: 4.7249 - loss: 4.7273 - val_attrition_output_accuracy: 0.2127 - val_attrition_output_loss: 0.0000e+00 - val_dept_output_accuracy: 0.6063 - val_dept_output_loss: 5.1859 - val_loss: 5.2204\n",
            "Epoch 67/100\n",
            "\u001b[1m28/28\u001b[0m \u001b[32m━━━━━━━━━━━━━━━━━━━━\u001b[0m\u001b[37m\u001b[0m \u001b[1m0s\u001b[0m 1ms/step - attrition_output_accuracy: 0.1503 - attrition_output_loss: 0.0000e+00 - dept_output_accuracy: 0.5850 - dept_output_loss: 4.3044 - loss: 4.3060 - val_attrition_output_accuracy: 0.2127 - val_attrition_output_loss: 0.0000e+00 - val_dept_output_accuracy: 0.5973 - val_dept_output_loss: 2.3631 - val_loss: 2.3729\n",
            "Epoch 68/100\n",
            "\u001b[1m28/28\u001b[0m \u001b[32m━━━━━━━━━━━━━━━━━━━━\u001b[0m\u001b[37m\u001b[0m \u001b[1m0s\u001b[0m 1ms/step - attrition_output_accuracy: 0.1547 - attrition_output_loss: 0.0000e+00 - dept_output_accuracy: 0.5826 - dept_output_loss: 4.9276 - loss: 4.9286 - val_attrition_output_accuracy: 0.2127 - val_attrition_output_loss: 0.0000e+00 - val_dept_output_accuracy: 0.6018 - val_dept_output_loss: 4.5620 - val_loss: 4.5777\n",
            "Epoch 69/100\n",
            "\u001b[1m28/28\u001b[0m \u001b[32m━━━━━━━━━━━━━━━━━━━━\u001b[0m\u001b[37m\u001b[0m \u001b[1m0s\u001b[0m 1ms/step - attrition_output_accuracy: 0.1634 - attrition_output_loss: 0.0000e+00 - dept_output_accuracy: 0.5196 - dept_output_loss: 3.4487 - loss: 3.4503 - val_attrition_output_accuracy: 0.2127 - val_attrition_output_loss: 0.0000e+00 - val_dept_output_accuracy: 0.6063 - val_dept_output_loss: 2.6502 - val_loss: 2.6642\n",
            "Epoch 70/100\n",
            "\u001b[1m28/28\u001b[0m \u001b[32m━━━━━━━━━━━━━━━━━━━━\u001b[0m\u001b[37m\u001b[0m \u001b[1m0s\u001b[0m 1ms/step - attrition_output_accuracy: 0.1622 - attrition_output_loss: 0.0000e+00 - dept_output_accuracy: 0.6254 - dept_output_loss: 2.5927 - loss: 2.5874 - val_attrition_output_accuracy: 0.2127 - val_attrition_output_loss: 0.0000e+00 - val_dept_output_accuracy: 0.6063 - val_dept_output_loss: 3.2546 - val_loss: 3.2764\n",
            "Epoch 71/100\n",
            "\u001b[1m28/28\u001b[0m \u001b[32m━━━━━━━━━━━━━━━━━━━━\u001b[0m\u001b[37m\u001b[0m \u001b[1m0s\u001b[0m 1ms/step - attrition_output_accuracy: 0.1571 - attrition_output_loss: 0.0000e+00 - dept_output_accuracy: 0.5349 - dept_output_loss: 4.3462 - loss: 4.3498 - val_attrition_output_accuracy: 0.2127 - val_attrition_output_loss: 0.0000e+00 - val_dept_output_accuracy: 0.6063 - val_dept_output_loss: 8.5792 - val_loss: 8.6130\n",
            "Epoch 72/100\n",
            "\u001b[1m28/28\u001b[0m \u001b[32m━━━━━━━━━━━━━━━━━━━━\u001b[0m\u001b[37m\u001b[0m \u001b[1m0s\u001b[0m 1ms/step - attrition_output_accuracy: 0.1552 - attrition_output_loss: 0.0000e+00 - dept_output_accuracy: 0.5972 - dept_output_loss: 6.7443 - loss: 6.7477 - val_attrition_output_accuracy: 0.2127 - val_attrition_output_loss: 0.0000e+00 - val_dept_output_accuracy: 0.3575 - val_dept_output_loss: 3.5772 - val_loss: 3.5874\n",
            "Epoch 73/100\n",
            "\u001b[1m28/28\u001b[0m \u001b[32m━━━━━━━━━━━━━━━━━━━━\u001b[0m\u001b[37m\u001b[0m \u001b[1m0s\u001b[0m 1ms/step - attrition_output_accuracy: 0.1743 - attrition_output_loss: 0.0000e+00 - dept_output_accuracy: 0.5275 - dept_output_loss: 3.4853 - loss: 3.4828 - val_attrition_output_accuracy: 0.2127 - val_attrition_output_loss: 0.0000e+00 - val_dept_output_accuracy: 0.6063 - val_dept_output_loss: 3.8899 - val_loss: 3.9083\n",
            "Epoch 74/100\n",
            "\u001b[1m28/28\u001b[0m \u001b[32m━━━━━━━━━━━━━━━━━━━━\u001b[0m\u001b[37m\u001b[0m \u001b[1m0s\u001b[0m 1ms/step - attrition_output_accuracy: 0.1509 - attrition_output_loss: 0.0000e+00 - dept_output_accuracy: 0.5806 - dept_output_loss: 4.3067 - loss: 4.3079 - val_attrition_output_accuracy: 0.2127 - val_attrition_output_loss: 0.0000e+00 - val_dept_output_accuracy: 0.4932 - val_dept_output_loss: 3.9068 - val_loss: 3.9193\n",
            "Epoch 75/100\n",
            "\u001b[1m28/28\u001b[0m \u001b[32m━━━━━━━━━━━━━━━━━━━━\u001b[0m\u001b[37m\u001b[0m \u001b[1m0s\u001b[0m 1ms/step - attrition_output_accuracy: 0.1698 - attrition_output_loss: 0.0000e+00 - dept_output_accuracy: 0.5767 - dept_output_loss: 4.3102 - loss: 4.3122 - val_attrition_output_accuracy: 0.2127 - val_attrition_output_loss: 0.0000e+00 - val_dept_output_accuracy: 0.5837 - val_dept_output_loss: 4.9377 - val_loss: 4.9498\n",
            "Epoch 76/100\n",
            "\u001b[1m28/28\u001b[0m \u001b[32m━━━━━━━━━━━━━━━━━━━━\u001b[0m\u001b[37m\u001b[0m \u001b[1m0s\u001b[0m 1ms/step - attrition_output_accuracy: 0.1951 - attrition_output_loss: 0.0000e+00 - dept_output_accuracy: 0.6205 - dept_output_loss: 3.6506 - loss: 3.6531 - val_attrition_output_accuracy: 0.2127 - val_attrition_output_loss: 0.0000e+00 - val_dept_output_accuracy: 0.6018 - val_dept_output_loss: 1.7991 - val_loss: 1.8091\n",
            "Epoch 77/100\n",
            "\u001b[1m28/28\u001b[0m \u001b[32m━━━━━━━━━━━━━━━━━━━━\u001b[0m\u001b[37m\u001b[0m \u001b[1m0s\u001b[0m 1ms/step - attrition_output_accuracy: 0.1534 - attrition_output_loss: 0.0000e+00 - dept_output_accuracy: 0.6526 - dept_output_loss: 2.5029 - loss: 2.5020 - val_attrition_output_accuracy: 0.2127 - val_attrition_output_loss: 0.0000e+00 - val_dept_output_accuracy: 0.6063 - val_dept_output_loss: 4.7453 - val_loss: 4.7655\n",
            "Epoch 78/100\n",
            "\u001b[1m28/28\u001b[0m \u001b[32m━━━━━━━━━━━━━━━━━━━━\u001b[0m\u001b[37m\u001b[0m \u001b[1m0s\u001b[0m 1ms/step - attrition_output_accuracy: 0.1511 - attrition_output_loss: 0.0000e+00 - dept_output_accuracy: 0.5942 - dept_output_loss: 2.9001 - loss: 2.9010 - val_attrition_output_accuracy: 0.2127 - val_attrition_output_loss: 0.0000e+00 - val_dept_output_accuracy: 0.6018 - val_dept_output_loss: 1.9340 - val_loss: 1.9452\n",
            "Epoch 79/100\n",
            "\u001b[1m28/28\u001b[0m \u001b[32m━━━━━━━━━━━━━━━━━━━━\u001b[0m\u001b[37m\u001b[0m \u001b[1m0s\u001b[0m 1ms/step - attrition_output_accuracy: 0.1708 - attrition_output_loss: 0.0000e+00 - dept_output_accuracy: 0.6447 - dept_output_loss: 3.4982 - loss: 3.4968 - val_attrition_output_accuracy: 0.2127 - val_attrition_output_loss: 0.0000e+00 - val_dept_output_accuracy: 0.3575 - val_dept_output_loss: 5.3245 - val_loss: 5.3375\n",
            "Epoch 80/100\n",
            "\u001b[1m28/28\u001b[0m \u001b[32m━━━━━━━━━━━━━━━━━━━━\u001b[0m\u001b[37m\u001b[0m \u001b[1m0s\u001b[0m 1ms/step - attrition_output_accuracy: 0.1593 - attrition_output_loss: 0.0000e+00 - dept_output_accuracy: 0.5564 - dept_output_loss: 5.7755 - loss: 5.7758 - val_attrition_output_accuracy: 0.2127 - val_attrition_output_loss: 0.0000e+00 - val_dept_output_accuracy: 0.6063 - val_dept_output_loss: 6.1768 - val_loss: 6.2276\n",
            "Epoch 81/100\n",
            "\u001b[1m28/28\u001b[0m \u001b[32m━━━━━━━━━━━━━━━━━━━━\u001b[0m\u001b[37m\u001b[0m \u001b[1m0s\u001b[0m 1ms/step - attrition_output_accuracy: 0.1417 - attrition_output_loss: 0.0000e+00 - dept_output_accuracy: 0.5573 - dept_output_loss: 6.6599 - loss: 6.6655 - val_attrition_output_accuracy: 0.2127 - val_attrition_output_loss: 0.0000e+00 - val_dept_output_accuracy: 0.6063 - val_dept_output_loss: 6.1420 - val_loss: 6.1795\n",
            "Epoch 82/100\n",
            "\u001b[1m28/28\u001b[0m \u001b[32m━━━━━━━━━━━━━━━━━━━━\u001b[0m\u001b[37m\u001b[0m \u001b[1m0s\u001b[0m 1ms/step - attrition_output_accuracy: 0.1445 - attrition_output_loss: 0.0000e+00 - dept_output_accuracy: 0.6183 - dept_output_loss: 4.7104 - loss: 4.7093 - val_attrition_output_accuracy: 0.2127 - val_attrition_output_loss: 0.0000e+00 - val_dept_output_accuracy: 0.4118 - val_dept_output_loss: 2.8749 - val_loss: 2.8918\n",
            "Epoch 83/100\n",
            "\u001b[1m28/28\u001b[0m \u001b[32m━━━━━━━━━━━━━━━━━━━━\u001b[0m\u001b[37m\u001b[0m \u001b[1m0s\u001b[0m 1ms/step - attrition_output_accuracy: 0.1642 - attrition_output_loss: 0.0000e+00 - dept_output_accuracy: 0.6306 - dept_output_loss: 5.8636 - loss: 5.8664 - val_attrition_output_accuracy: 0.2127 - val_attrition_output_loss: 0.0000e+00 - val_dept_output_accuracy: 0.6063 - val_dept_output_loss: 5.0675 - val_loss: 5.1066\n",
            "Epoch 84/100\n",
            "\u001b[1m28/28\u001b[0m \u001b[32m━━━━━━━━━━━━━━━━━━━━\u001b[0m\u001b[37m\u001b[0m \u001b[1m0s\u001b[0m 1ms/step - attrition_output_accuracy: 0.1594 - attrition_output_loss: 0.0000e+00 - dept_output_accuracy: 0.6736 - dept_output_loss: 7.5784 - loss: 7.5793 - val_attrition_output_accuracy: 0.2127 - val_attrition_output_loss: 0.0000e+00 - val_dept_output_accuracy: 0.6063 - val_dept_output_loss: 8.9812 - val_loss: 9.0138\n",
            "Epoch 85/100\n",
            "\u001b[1m28/28\u001b[0m \u001b[32m━━━━━━━━━━━━━━━━━━━━\u001b[0m\u001b[37m\u001b[0m \u001b[1m0s\u001b[0m 1ms/step - attrition_output_accuracy: 0.1610 - attrition_output_loss: 0.0000e+00 - dept_output_accuracy: 0.6195 - dept_output_loss: 5.9306 - loss: 5.9347 - val_attrition_output_accuracy: 0.2127 - val_attrition_output_loss: 0.0000e+00 - val_dept_output_accuracy: 0.4977 - val_dept_output_loss: 2.1026 - val_loss: 2.1147\n",
            "Epoch 86/100\n",
            "\u001b[1m28/28\u001b[0m \u001b[32m━━━━━━━━━━━━━━━━━━━━\u001b[0m\u001b[37m\u001b[0m \u001b[1m0s\u001b[0m 1ms/step - attrition_output_accuracy: 0.1646 - attrition_output_loss: 0.0000e+00 - dept_output_accuracy: 0.5915 - dept_output_loss: 2.8627 - loss: 2.8592 - val_attrition_output_accuracy: 0.2127 - val_attrition_output_loss: 0.0000e+00 - val_dept_output_accuracy: 0.3439 - val_dept_output_loss: 4.7795 - val_loss: 4.8065\n",
            "Epoch 87/100\n",
            "\u001b[1m28/28\u001b[0m \u001b[32m━━━━━━━━━━━━━━━━━━━━\u001b[0m\u001b[37m\u001b[0m \u001b[1m0s\u001b[0m 1ms/step - attrition_output_accuracy: 0.1642 - attrition_output_loss: 0.0000e+00 - dept_output_accuracy: 0.5336 - dept_output_loss: 4.7838 - loss: 4.7865 - val_attrition_output_accuracy: 0.2127 - val_attrition_output_loss: 0.0000e+00 - val_dept_output_accuracy: 0.5249 - val_dept_output_loss: 3.3390 - val_loss: 3.3567\n",
            "Epoch 88/100\n",
            "\u001b[1m28/28\u001b[0m \u001b[32m━━━━━━━━━━━━━━━━━━━━\u001b[0m\u001b[37m\u001b[0m \u001b[1m0s\u001b[0m 1ms/step - attrition_output_accuracy: 0.1563 - attrition_output_loss: 0.0000e+00 - dept_output_accuracy: 0.5488 - dept_output_loss: 5.2422 - loss: 5.2444 - val_attrition_output_accuracy: 0.2127 - val_attrition_output_loss: 0.0000e+00 - val_dept_output_accuracy: 0.4796 - val_dept_output_loss: 3.1459 - val_loss: 3.1518\n",
            "Epoch 89/100\n",
            "\u001b[1m28/28\u001b[0m \u001b[32m━━━━━━━━━━━━━━━━━━━━\u001b[0m\u001b[37m\u001b[0m \u001b[1m0s\u001b[0m 1ms/step - attrition_output_accuracy: 0.1691 - attrition_output_loss: 0.0000e+00 - dept_output_accuracy: 0.5717 - dept_output_loss: 3.3417 - loss: 3.3424 - val_attrition_output_accuracy: 0.2127 - val_attrition_output_loss: 0.0000e+00 - val_dept_output_accuracy: 0.6063 - val_dept_output_loss: 3.5217 - val_loss: 3.5384\n",
            "Epoch 90/100\n",
            "\u001b[1m28/28\u001b[0m \u001b[32m━━━━━━━━━━━━━━━━━━━━\u001b[0m\u001b[37m\u001b[0m \u001b[1m0s\u001b[0m 1ms/step - attrition_output_accuracy: 0.1532 - attrition_output_loss: 0.0000e+00 - dept_output_accuracy: 0.5337 - dept_output_loss: 3.9767 - loss: 3.9758 - val_attrition_output_accuracy: 0.2127 - val_attrition_output_loss: 0.0000e+00 - val_dept_output_accuracy: 0.5837 - val_dept_output_loss: 4.5172 - val_loss: 4.5348\n",
            "Epoch 91/100\n",
            "\u001b[1m28/28\u001b[0m \u001b[32m━━━━━━━━━━━━━━━━━━━━\u001b[0m\u001b[37m\u001b[0m \u001b[1m0s\u001b[0m 1ms/step - attrition_output_accuracy: 0.1765 - attrition_output_loss: 0.0000e+00 - dept_output_accuracy: 0.5925 - dept_output_loss: 5.9764 - loss: 5.9714 - val_attrition_output_accuracy: 0.2127 - val_attrition_output_loss: 0.0000e+00 - val_dept_output_accuracy: 0.6018 - val_dept_output_loss: 8.0050 - val_loss: 8.0331\n",
            "Epoch 92/100\n",
            "\u001b[1m28/28\u001b[0m \u001b[32m━━━━━━━━━━━━━━━━━━━━\u001b[0m\u001b[37m\u001b[0m \u001b[1m0s\u001b[0m 1ms/step - attrition_output_accuracy: 0.1637 - attrition_output_loss: 0.0000e+00 - dept_output_accuracy: 0.6057 - dept_output_loss: 4.8954 - loss: 4.8936 - val_attrition_output_accuracy: 0.2127 - val_attrition_output_loss: 0.0000e+00 - val_dept_output_accuracy: 0.6018 - val_dept_output_loss: 4.3738 - val_loss: 4.3911\n",
            "Epoch 93/100\n",
            "\u001b[1m28/28\u001b[0m \u001b[32m━━━━━━━━━━━━━━━━━━━━\u001b[0m\u001b[37m\u001b[0m \u001b[1m0s\u001b[0m 1ms/step - attrition_output_accuracy: 0.1449 - attrition_output_loss: 0.0000e+00 - dept_output_accuracy: 0.6283 - dept_output_loss: 6.1072 - loss: 6.1091 - val_attrition_output_accuracy: 0.2127 - val_attrition_output_loss: 0.0000e+00 - val_dept_output_accuracy: 0.1176 - val_dept_output_loss: 16.7924 - val_loss: 16.7983\n",
            "Epoch 94/100\n",
            "\u001b[1m28/28\u001b[0m \u001b[32m━━━━━━━━━━━━━━━━━━━━\u001b[0m\u001b[37m\u001b[0m \u001b[1m0s\u001b[0m 1ms/step - attrition_output_accuracy: 0.1588 - attrition_output_loss: 0.0000e+00 - dept_output_accuracy: 0.5088 - dept_output_loss: 9.9625 - loss: 9.9625 - val_attrition_output_accuracy: 0.2127 - val_attrition_output_loss: 0.0000e+00 - val_dept_output_accuracy: 0.6018 - val_dept_output_loss: 11.3084 - val_loss: 11.3309\n",
            "Epoch 95/100\n",
            "\u001b[1m28/28\u001b[0m \u001b[32m━━━━━━━━━━━━━━━━━━━━\u001b[0m\u001b[37m\u001b[0m \u001b[1m0s\u001b[0m 1ms/step - attrition_output_accuracy: 0.1612 - attrition_output_loss: 0.0000e+00 - dept_output_accuracy: 0.6097 - dept_output_loss: 6.3100 - loss: 6.3121 - val_attrition_output_accuracy: 0.2127 - val_attrition_output_loss: 0.0000e+00 - val_dept_output_accuracy: 0.6018 - val_dept_output_loss: 4.6836 - val_loss: 4.7163\n",
            "Epoch 96/100\n",
            "\u001b[1m28/28\u001b[0m \u001b[32m━━━━━━━━━━━━━━━━━━━━\u001b[0m\u001b[37m\u001b[0m \u001b[1m0s\u001b[0m 1ms/step - attrition_output_accuracy: 0.1714 - attrition_output_loss: 0.0000e+00 - dept_output_accuracy: 0.6276 - dept_output_loss: 8.2264 - loss: 8.2269 - val_attrition_output_accuracy: 0.2127 - val_attrition_output_loss: 0.0000e+00 - val_dept_output_accuracy: 0.3484 - val_dept_output_loss: 11.3754 - val_loss: 11.3915\n",
            "Epoch 97/100\n",
            "\u001b[1m28/28\u001b[0m \u001b[32m━━━━━━━━━━━━━━━━━━━━\u001b[0m\u001b[37m\u001b[0m \u001b[1m0s\u001b[0m 1ms/step - attrition_output_accuracy: 0.1626 - attrition_output_loss: 0.0000e+00 - dept_output_accuracy: 0.4926 - dept_output_loss: 9.7131 - loss: 9.7137 - val_attrition_output_accuracy: 0.2127 - val_attrition_output_loss: 0.0000e+00 - val_dept_output_accuracy: 0.6109 - val_dept_output_loss: 6.1957 - val_loss: 6.2336\n",
            "Epoch 98/100\n",
            "\u001b[1m28/28\u001b[0m \u001b[32m━━━━━━━━━━━━━━━━━━━━\u001b[0m\u001b[37m\u001b[0m \u001b[1m0s\u001b[0m 1ms/step - attrition_output_accuracy: 0.1468 - attrition_output_loss: 0.0000e+00 - dept_output_accuracy: 0.6214 - dept_output_loss: 6.4029 - loss: 6.4075 - val_attrition_output_accuracy: 0.2127 - val_attrition_output_loss: 0.0000e+00 - val_dept_output_accuracy: 0.5792 - val_dept_output_loss: 3.9252 - val_loss: 3.9401\n",
            "Epoch 99/100\n",
            "\u001b[1m28/28\u001b[0m \u001b[32m━━━━━━━━━━━━━━━━━━━━\u001b[0m\u001b[37m\u001b[0m \u001b[1m0s\u001b[0m 1ms/step - attrition_output_accuracy: 0.1521 - attrition_output_loss: 0.0000e+00 - dept_output_accuracy: 0.6361 - dept_output_loss: 3.7253 - loss: 3.7246 - val_attrition_output_accuracy: 0.2127 - val_attrition_output_loss: 0.0000e+00 - val_dept_output_accuracy: 0.6063 - val_dept_output_loss: 5.1916 - val_loss: 5.2172\n",
            "Epoch 100/100\n",
            "\u001b[1m28/28\u001b[0m \u001b[32m━━━━━━━━━━━━━━━━━━━━\u001b[0m\u001b[37m\u001b[0m \u001b[1m0s\u001b[0m 1ms/step - attrition_output_accuracy: 0.1452 - attrition_output_loss: 0.0000e+00 - dept_output_accuracy: 0.5749 - dept_output_loss: 6.9754 - loss: 6.9633 - val_attrition_output_accuracy: 0.2127 - val_attrition_output_loss: 0.0000e+00 - val_dept_output_accuracy: 0.6063 - val_dept_output_loss: 10.9705 - val_loss: 11.0238\n"
          ]
        },
        {
          "data": {
            "text/plain": [
              "<keras.src.callbacks.history.History at 0x10d1136cfd0>"
            ]
          },
          "execution_count": 16,
          "metadata": {},
          "output_type": "execute_result"
        }
      ],
      "source": [
        "# Train the model\n",
        "y_train_dept = pd.get_dummies(y_train['Department'])  # One-hot encode Department\n",
        "y_train_attrition = y_train['Attrition'].map({'No': 0, 'Yes': 1})  # Binary encode Attrition\n",
        "\n",
        "y_test_dept = pd.get_dummies(y_test['Department'])  # One-hot encode Department\n",
        "y_test_attrition = y_test['Attrition'].map({'No': 0, 'Yes': 1})  # Binary encode Attrition\n",
        "\n",
        "# Recompile the model with the correct loss functions and metrics\n",
        "model.compile(optimizer='adam',\n",
        "              loss={'dept_output': 'categorical_crossentropy', 'attrition_output': 'binary_crossentropy'},\n",
        "              metrics={'dept_output': 'accuracy', 'attrition_output': 'accuracy'})\n",
        "\n",
        "\n",
        "model.fit(\n",
        "    X_train_scaled, \n",
        "    [y_train_dept, y_train_attrition],\n",
        "    validation_split=0.2,\n",
        "    epochs=100,\n",
        "    batch_size=32,\n",
        "    verbose=1\n",
        ")\n"
      ]
    },
    {
      "cell_type": "code",
      "execution_count": 17,
      "metadata": {
        "colab": {
          "base_uri": "https://localhost:8080/"
        },
        "id": "VsMoaQlgGc3U",
        "outputId": "1bd4e601-e964-4abc-ad83-aeecf6b696be"
      },
      "outputs": [],
      "source": [
        "# Evaluate the model with the testing data\n",
        "model_loss, dept_loss, dept_accuracy, attrition_loss, attrition_accuracy = model.evaluate(X_test_scaled, [y_test_dept, y_test_attrition], verbose=0)\n"
      ]
    },
    {
      "cell_type": "code",
      "execution_count": 18,
      "metadata": {
        "colab": {
          "base_uri": "https://localhost:8080/"
        },
        "id": "ZlCtlHi0Vt54",
        "outputId": "bc21ef3e-80c2-4b38-9c29-79515bc23dec"
      },
      "outputs": [
        {
          "name": "stdout",
          "output_type": "stream",
          "text": [
            "Department Accuracy: 0.00\n",
            "Attrition Accuracy: 0.65\n",
            "Model Loss: 10.15\n",
            "Department Loss: 10.15\n",
            "Attrition Loss: 0.13\n"
          ]
        }
      ],
      "source": [
        "# Print the accuracy for both department and attrition\n",
        "print(f\"Department Accuracy: {dept_accuracy:.2f}\")\n",
        "print(f\"Attrition Accuracy: {attrition_accuracy:.2f}\")\n",
        "print(f\"Model Loss: {model_loss:.2f}\")\n",
        "print(f\"Department Loss: {dept_loss:.2f}\")\n",
        "print(f\"Attrition Loss: {attrition_loss:.2f}\")\n",
        "\n",
        "\n"
      ]
    },
    {
      "cell_type": "markdown",
      "metadata": {
        "id": "eGSyfsZfWOQM"
      },
      "source": [
        "# Summary\n",
        "\n",
        "In the provided space below, briefly answer the following questions.\n",
        "\n",
        "1. Is accuracy the best metric to use on this data? Why or why not?\n",
        "\n",
        "2. What activation functions did you choose for your output layers, and why?\n",
        "\n",
        "3. Can you name a few ways that this model might be improved?"
      ]
    },
    {
      "cell_type": "markdown",
      "metadata": {
        "id": "pi9SLpFnWvbF"
      },
      "source": [
        "YOUR ANSWERS HERE\n",
        "\n",
        "1. In this case I do not think it is.\n",
        "2. Sigmoid for binary classification and Softmax for multiclass\n",
        "3. Maybe a bit more time with features and fine tuning (cleaning) the data for the model to be trained."
      ]
    },
    {
      "cell_type": "markdown",
      "metadata": {},
      "source": []
    }
  ],
  "metadata": {
    "colab": {
      "provenance": []
    },
    "kernelspec": {
      "display_name": "smu_test",
      "language": "python",
      "name": "python3"
    },
    "language_info": {
      "codemirror_mode": {
        "name": "ipython",
        "version": 3
      },
      "file_extension": ".py",
      "mimetype": "text/x-python",
      "name": "python",
      "nbconvert_exporter": "python",
      "pygments_lexer": "ipython3",
      "version": "3.10.14"
    }
  },
  "nbformat": 4,
  "nbformat_minor": 0
}
